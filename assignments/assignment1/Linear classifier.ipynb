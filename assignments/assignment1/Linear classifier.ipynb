{
 "cells": [
  {
   "cell_type": "markdown",
   "metadata": {},
   "source": [
    "# Задание 1.2 - Линейный классификатор (Linear classifier)\n",
    "\n",
    "В этом задании мы реализуем другую модель машинного обучения - линейный классификатор. Линейный классификатор подбирает для каждого класса веса, на которые нужно умножить значение каждого признака и потом сложить вместе.\n",
    "Тот класс, у которого эта сумма больше, и является предсказанием модели.\n",
    "\n",
    "В этом задании вы:\n",
    "- потренируетесь считать градиенты различных многомерных функций\n",
    "- реализуете подсчет градиентов через линейную модель и функцию потерь softmax\n",
    "- реализуете процесс тренировки линейного классификатора\n",
    "- подберете параметры тренировки на практике\n",
    "\n",
    "На всякий случай, еще раз ссылка на туториал по numpy:  \n",
    "http://cs231n.github.io/python-numpy-tutorial/"
   ]
  },
  {
   "cell_type": "code",
   "execution_count": 1,
   "metadata": {},
   "outputs": [],
   "source": [
    "import numpy as np\n",
    "import matplotlib.pyplot as plt\n",
    "\n",
    "%matplotlib inline\n",
    "\n",
    "%load_ext autoreload\n",
    "%autoreload 2"
   ]
  },
  {
   "cell_type": "code",
   "execution_count": 2,
   "metadata": {},
   "outputs": [],
   "source": [
    "from dataset import load_svhn, random_split_train_val\n",
    "from gradient_check import check_gradient\n",
    "from metrics import multiclass_accuracy \n",
    "import linear_classifer"
   ]
  },
  {
   "cell_type": "markdown",
   "metadata": {},
   "source": [
    "# Как всегда, первым делом загружаем данные\n",
    "\n",
    "Мы будем использовать все тот же SVHN."
   ]
  },
  {
   "cell_type": "code",
   "execution_count": 3,
   "metadata": {},
   "outputs": [],
   "source": [
    "def prepare_for_linear_classifier(train_X, test_X):\n",
    "    train_flat = train_X.reshape(train_X.shape[0], -1).astype(np.float) / 255.0\n",
    "    test_flat = test_X.reshape(test_X.shape[0], -1).astype(np.float) / 255.0\n",
    "    \n",
    "    # Subtract mean\n",
    "    mean_image = np.mean(train_flat, axis = 0)\n",
    "    train_flat -= mean_image\n",
    "    test_flat -= mean_image\n",
    "    \n",
    "    # Add another channel with ones as a bias term\n",
    "    train_flat_with_ones = np.hstack([train_flat, np.ones((train_X.shape[0], 1))])\n",
    "    test_flat_with_ones = np.hstack([test_flat, np.ones((test_X.shape[0], 1))])    \n",
    "    return train_flat_with_ones, test_flat_with_ones\n",
    "    \n",
    "train_X, train_y, test_X, test_y = load_svhn(\"data\", max_train=10000, max_test=1000)    \n",
    "train_X, test_X = prepare_for_linear_classifier(train_X, test_X)\n",
    "# Split train into train and val\n",
    "train_X, train_y, val_X, val_y = random_split_train_val(train_X, train_y, num_val = 1000)"
   ]
  },
  {
   "cell_type": "markdown",
   "metadata": {},
   "source": [
    "# Играемся с градиентами!\n",
    "\n",
    "В этом курсе мы будем писать много функций, которые вычисляют градиенты аналитическим методом.\n",
    "\n",
    "Все функции, в которых мы будем вычислять градиенты будут написаны по одной и той же схеме.  \n",
    "Они будут получать на вход точку, где нужно вычислить значение и градиент функции, а на выходе будут выдавать кортеж (tuple) из двух значений - собственно значения функции в этой точке (всегда одно число) и аналитического значения градиента в той же точке (той же размерности, что и вход).\n",
    "```\n",
    "def f(x):\n",
    "    \"\"\"\n",
    "    Computes function and analytic gradient at x\n",
    "    \n",
    "    x: np array of float, input to the function\n",
    "    \n",
    "    Returns:\n",
    "    value: float, value of the function \n",
    "    grad: np array of float, same shape as x\n",
    "    \"\"\"\n",
    "    ...\n",
    "    \n",
    "    return value, grad\n",
    "```\n",
    "\n",
    "Необходимым инструментом во время реализации кода, вычисляющего градиенты, является функция его проверки. Эта функция вычисляет градиент численным методом и сверяет результат с градиентом, вычисленным аналитическим методом.\n",
    "\n",
    "Мы начнем с того, чтобы реализовать вычисление численного градиента (numeric gradient) в функции `check_gradient` в `gradient_check.py`. Эта функция будет принимать на вход функции формата, заданного выше, использовать значение `value` для вычисления численного градиента и сравнит его с аналитическим - они должны сходиться.\n",
    "\n",
    "Напишите часть функции, которая вычисляет градиент с помощью численной производной для каждой координаты. Для вычисления производной используйте так называемую two-point formula (https://en.wikipedia.org/wiki/Numerical_differentiation):\n",
    "\n",
    "![image](https://wikimedia.org/api/rest_v1/media/math/render/svg/22fc2c0a66c63560a349604f8b6b39221566236d)\n",
    "\n",
    "Все функции приведенные в следующей клетке должны проходить gradient check."
   ]
  },
  {
   "cell_type": "code",
   "execution_count": 4,
   "metadata": {
    "scrolled": true
   },
   "outputs": [
    {
     "name": "stdout",
     "output_type": "stream",
     "text": [
      "Gradient check passed!\n",
      "Gradient check passed!\n",
      "Gradient check passed!\n"
     ]
    },
    {
     "data": {
      "text/plain": [
       "True"
      ]
     },
     "execution_count": 4,
     "metadata": {},
     "output_type": "execute_result"
    }
   ],
   "source": [
    "# TODO: Implement check_gradient function in gradient_check.py\n",
    "# All the functions below should pass the gradient check\n",
    "\n",
    "def square(x):\n",
    "    return float(x*x), 2*x\n",
    "\n",
    "check_gradient(square, np.array([3.0]))\n",
    "\n",
    "def array_sum(x):\n",
    "    assert x.shape == (2,), x.shape\n",
    "    return np.sum(x), np.ones_like(x)\n",
    "\n",
    "check_gradient(array_sum, np.array([3.0, 2.0]))\n",
    "\n",
    "def array_2d_sum(x):\n",
    "    assert x.shape == (2,2)\n",
    "    return np.sum(x), np.ones_like(x)\n",
    "\n",
    "check_gradient(array_2d_sum, np.array([[3.0, 2.0], [1.0, 0.0]]))"
   ]
  },
  {
   "cell_type": "markdown",
   "metadata": {},
   "source": [
    "## Начинаем писать свои функции, считающие аналитический градиент\n",
    "\n",
    "Теперь реализуем функцию softmax, которая получает на вход оценки для каждого класса и преобразует их в вероятности от 0 до 1:\n",
    "![image](https://wikimedia.org/api/rest_v1/media/math/render/svg/e348290cf48ddbb6e9a6ef4e39363568b67c09d3)\n",
    "\n",
    "**Важно:** Практический аспект вычисления этой функции заключается в том, что в ней учавствует вычисление экспоненты от потенциально очень больших чисел - это может привести к очень большим значениям в числителе и знаменателе за пределами диапазона float.\n",
    "\n",
    "К счастью, у этой проблемы есть простое решение -- перед вычислением softmax вычесть из всех оценок максимальное значение среди всех оценок:\n",
    "```\n",
    "predictions -= np.max(predictions)\n",
    "```\n",
    "(подробнее здесь - http://cs231n.github.io/linear-classify/#softmax, секция `Practical issues: Numeric stability`)"
   ]
  },
  {
   "cell_type": "code",
   "execution_count": 5,
   "metadata": {},
   "outputs": [],
   "source": [
    "# TODO Implement softmax and cross-entropy for single sample\n",
    "probs = linear_classifer.softmax(np.array([-10, 0, 10]))\n",
    "\n",
    "# Make sure it works for big numbers too!\n",
    "probs = linear_classifer.softmax(np.array([1000, 0, 0]))\n",
    "assert np.isclose(probs[0], 1.0)"
   ]
  },
  {
   "cell_type": "markdown",
   "metadata": {},
   "source": [
    "Кроме этого, мы реализуем cross-entropy loss, которую мы будем использовать как функцию ошибки (error function).\n",
    "В общем виде cross-entropy определена следующим образом:\n",
    "![image](https://wikimedia.org/api/rest_v1/media/math/render/svg/0cb6da032ab424eefdca0884cd4113fe578f4293)\n",
    "\n",
    "где x - все классы, p(x) - истинная вероятность принадлежности сэмпла классу x, а q(x) - вероятность принадлежности классу x, предсказанная моделью.  \n",
    "В нашем случае сэмпл принадлежит только одному классу, индекс которого передается функции. Для него p(x) равна 1, а для остальных классов - 0. \n",
    "\n",
    "Это позволяет реализовать функцию проще!"
   ]
  },
  {
   "cell_type": "code",
   "execution_count": 6,
   "metadata": {
    "scrolled": false
   },
   "outputs": [
    {
     "data": {
      "text/plain": [
       "array([4.50940412e-05, 6.69254912e-03, 9.93262357e-01])"
      ]
     },
     "metadata": {},
     "output_type": "display_data"
    },
    {
     "data": {
      "text/plain": [
       "5.006760443547122"
      ]
     },
     "execution_count": 6,
     "metadata": {},
     "output_type": "execute_result"
    }
   ],
   "source": [
    "probs = linear_classifer.softmax(np.array([-5, 0, 5]))\n",
    "display(probs)\n",
    "linear_classifer.cross_entropy_loss(probs, 1)"
   ]
  },
  {
   "cell_type": "markdown",
   "metadata": {},
   "source": [
    "После того как мы реализовали сами функции, мы можем реализовать градиент.\n",
    "\n",
    "Оказывается, что вычисление градиента становится гораздо проще, если объединить эти функции в одну, которая сначала вычисляет вероятности через softmax, а потом использует их для вычисления функции ошибки через cross-entropy loss.\n",
    "\n",
    "Эта функция `softmax_with_cross_entropy` будет возвращает и значение ошибки, и градиент по входным параметрам. Мы проверим корректность реализации с помощью `check_gradient`."
   ]
  },
  {
   "cell_type": "code",
   "execution_count": 7,
   "metadata": {},
   "outputs": [
    {
     "name": "stdout",
     "output_type": "stream",
     "text": [
      "Gradient check passed!\n"
     ]
    },
    {
     "data": {
      "text/plain": [
       "True"
      ]
     },
     "execution_count": 7,
     "metadata": {},
     "output_type": "execute_result"
    }
   ],
   "source": [
    "# TODO Implement combined function or softmax and cross entropy and produces gradient\n",
    "loss, grad = linear_classifer.softmax_with_cross_entropy(np.array([1, 0, 0]), 1)\n",
    "check_gradient(lambda x: linear_classifer.softmax_with_cross_entropy(x, 1), np.array([1, 0, 0], np.float))"
   ]
  },
  {
   "cell_type": "markdown",
   "metadata": {},
   "source": [
    "В качестве метода тренировки мы будем использовать стохастический градиентный спуск (stochastic gradient descent или SGD), который работает с батчами сэмплов. \n",
    "\n",
    "Поэтому все наши фукнции будут получать не один пример, а батч, то есть входом будет не вектор из `num_classes` оценок, а матрица размерности `batch_size, num_classes`. Индекс примера в батче всегда будет первым измерением.\n",
    "\n",
    "Следующий шаг - переписать наши функции так, чтобы они поддерживали батчи.\n",
    "\n",
    "Финальное значение функции ошибки должно остаться числом, и оно равно среднему значению ошибки среди всех примеров в батче."
   ]
  },
  {
   "cell_type": "markdown",
   "metadata": {},
   "source": [
    "### Наконец, реализуем сам линейный классификатор!\n",
    "\n",
    "softmax и cross-entropy получают на вход оценки, которые выдает линейный классификатор.\n",
    "\n",
    "Он делает это очень просто: для каждого класса есть набор весов, на которые надо умножить пиксели картинки и сложить. Получившееся число и является оценкой класса, идущей на вход softmax.\n",
    "\n",
    "Таким образом, линейный классификатор можно представить как умножение вектора с пикселями на матрицу W размера `num_features, num_classes`. Такой подход легко расширяется на случай батча векторов с пикселями X размера `batch_size, num_features`:\n",
    "\n",
    "`predictions = X * W`, где `*` - матричное умножение.\n",
    "\n",
    "Реализуйте функцию подсчета линейного классификатора и градиентов по весам `linear_softmax` в файле `linear_classifer.py`"
   ]
  },
  {
   "cell_type": "code",
   "execution_count": 8,
   "metadata": {
    "scrolled": false
   },
   "outputs": [
    {
     "name": "stdout",
     "output_type": "stream",
     "text": [
      "Gradient check passed!\n",
      "Gradient check passed!\n"
     ]
    },
    {
     "data": {
      "text/plain": [
       "True"
      ]
     },
     "execution_count": 8,
     "metadata": {},
     "output_type": "execute_result"
    }
   ],
   "source": [
    "# TODO Extend combined function so it can receive a 2d array with batch of samples\n",
    "np.random.seed(42)\n",
    "# Test batch_size = 1\n",
    "num_classes = 4\n",
    "batch_size = 1\n",
    "predictions = np.random.randint(-1, 3, size=(num_classes, batch_size)).astype(np.float)\n",
    "target_index = np.random.randint(0, num_classes, size=(batch_size, 1)).astype(np.int)\n",
    "check_gradient(lambda x: linear_classifer.softmax_with_cross_entropy(x, target_index), predictions)\n",
    "\n",
    "# Test batch_size = 3\n",
    "num_classes = 4\n",
    "batch_size = 3\n",
    "predictions = np.random.randint(-1, 3, size=(num_classes, batch_size)).astype(np.float)\n",
    "target_index = np.random.randint(0, num_classes, size=(batch_size, 1)).astype(np.int)\n",
    "check_gradient(lambda x: linear_classifer.softmax_with_cross_entropy(x, target_index), predictions)"
   ]
  },
  {
   "cell_type": "markdown",
   "metadata": {},
   "source": [
    "### И теперь регуляризация\n",
    "\n",
    "Мы будем использовать L2 regularization для весов как часть общей функции ошибки.\n",
    "\n",
    "Напомним, L2 regularization определяется как\n",
    "\n",
    "l2_reg_loss = regularization_strength * sum<sub>ij</sub> W[i, j]<sup>2</sup>\n",
    "\n",
    "Реализуйте функцию для его вычисления и вычисления соотвествующих градиентов."
   ]
  },
  {
   "cell_type": "code",
   "execution_count": 9,
   "metadata": {},
   "outputs": [
    {
     "name": "stdout",
     "output_type": "stream",
     "text": [
      "Gradient check passed!\n"
     ]
    },
    {
     "data": {
      "text/plain": [
       "True"
      ]
     },
     "execution_count": 9,
     "metadata": {},
     "output_type": "execute_result"
    }
   ],
   "source": [
    "# TODO Implement linear_softmax function that uses softmax with cross-entropy for linear classifier\n",
    "batch_size = 2\n",
    "num_classes = 2\n",
    "num_features = 3\n",
    "np.random.seed(42)\n",
    "W = np.random.randint(-1, 3, size=(num_features, num_classes)).astype(np.float)\n",
    "X = np.random.randint(-1, 3, size=(batch_size, num_features)).astype(np.float)\n",
    "target_index = np.ones(batch_size, dtype=np.int)\n",
    "\n",
    "loss, dW = linear_classifer.linear_softmax(X, W, target_index)\n",
    "check_gradient(lambda w: linear_classifer.linear_softmax(X, w, target_index), W)"
   ]
  },
  {
   "cell_type": "code",
   "execution_count": 10,
   "metadata": {},
   "outputs": [
    {
     "name": "stdout",
     "output_type": "stream",
     "text": [
      "Gradient check passed!\n"
     ]
    },
    {
     "data": {
      "text/plain": [
       "True"
      ]
     },
     "execution_count": 10,
     "metadata": {},
     "output_type": "execute_result"
    }
   ],
   "source": [
    "# TODO Implement l2_regularization function that implements loss for L2 regularization\n",
    "linear_classifer.l2_regularization(W, 0.01)\n",
    "check_gradient(lambda w: linear_classifer.l2_regularization(w, 0.01), W)"
   ]
  },
  {
   "cell_type": "markdown",
   "metadata": {},
   "source": [
    "# Тренировка!"
   ]
  },
  {
   "cell_type": "markdown",
   "metadata": {},
   "source": [
    "Градиенты в порядке, реализуем процесс тренировки!"
   ]
  },
  {
   "cell_type": "code",
   "execution_count": 11,
   "metadata": {
    "scrolled": false
   },
   "outputs": [
    {
     "name": "stdout",
     "output_type": "stream",
     "text": [
      "Epoch 0, loss: 2.609816\n",
      "Epoch 1, loss: 2.609771\n",
      "Epoch 2, loss: 2.609726\n",
      "Epoch 3, loss: 2.609682\n",
      "Epoch 4, loss: 2.609639\n",
      "Epoch 5, loss: 2.609597\n",
      "Epoch 6, loss: 2.609556\n",
      "Epoch 7, loss: 2.609516\n",
      "Epoch 8, loss: 2.609476\n",
      "Epoch 9, loss: 2.609438\n"
     ]
    }
   ],
   "source": [
    "# TODO: Implement LinearSoftmaxClassifier.fit function\n",
    "classifier = linear_classifer.LinearSoftmaxClassifier()\n",
    "loss_history = classifier.fit(train_X, train_y, epochs=10, learning_rate=1e-3, batch_size=300, reg=1e1)"
   ]
  },
  {
   "cell_type": "code",
   "execution_count": 12,
   "metadata": {},
   "outputs": [
    {
     "data": {
      "text/plain": [
       "[<matplotlib.lines.Line2D at 0x14c41bcc780>]"
      ]
     },
     "execution_count": 12,
     "metadata": {},
     "output_type": "execute_result"
    },
    {
     "data": {
      "image/png": "[encoded data removed]",
      "text/plain": [
       "<Figure size 432x288 with 1 Axes>"
      ]
     },
     "metadata": {
      "needs_background": "light"
     },
     "output_type": "display_data"
    }
   ],
   "source": [
    "# let's look at the loss history!\n",
    "plt.plot(loss_history)"
   ]
  },
  {
   "cell_type": "code",
   "execution_count": 13,
   "metadata": {},
   "outputs": [
    {
     "name": "stdout",
     "output_type": "stream",
     "text": [
      "Accuracy:  0.09399999999999997\n",
      "Epoch 0, loss: 2.609400\n",
      "Epoch 1, loss: 2.609363\n",
      "Epoch 2, loss: 2.609327\n",
      "Epoch 3, loss: 2.609292\n",
      "Epoch 4, loss: 2.609257\n",
      "Epoch 5, loss: 2.609224\n",
      "Epoch 6, loss: 2.609191\n",
      "Epoch 7, loss: 2.609159\n",
      "Epoch 8, loss: 2.609128\n",
      "Epoch 9, loss: 2.609097\n",
      "Epoch 10, loss: 2.609068\n",
      "Epoch 11, loss: 2.609039\n",
      "Epoch 12, loss: 2.609011\n",
      "Epoch 13, loss: 2.608983\n",
      "Epoch 14, loss: 2.608957\n",
      "Epoch 15, loss: 2.608931\n",
      "Epoch 16, loss: 2.608906\n",
      "Epoch 17, loss: 2.608882\n",
      "Epoch 18, loss: 2.608859\n",
      "Epoch 19, loss: 2.608836\n",
      "Epoch 20, loss: 2.608814\n",
      "Epoch 21, loss: 2.608793\n",
      "Epoch 22, loss: 2.608773\n",
      "Epoch 23, loss: 2.608753\n",
      "Epoch 24, loss: 2.608735\n",
      "Epoch 25, loss: 2.608717\n",
      "Epoch 26, loss: 2.608699\n",
      "Epoch 27, loss: 2.608683\n",
      "Epoch 28, loss: 2.608667\n",
      "Epoch 29, loss: 2.608652\n",
      "Epoch 30, loss: 2.608637\n",
      "Epoch 31, loss: 2.608624\n",
      "Epoch 32, loss: 2.608611\n",
      "Epoch 33, loss: 2.608599\n",
      "Epoch 34, loss: 2.608587\n",
      "Epoch 35, loss: 2.608577\n",
      "Epoch 36, loss: 2.608567\n",
      "Epoch 37, loss: 2.608557\n",
      "Epoch 38, loss: 2.608549\n",
      "Epoch 39, loss: 2.608541\n",
      "Epoch 40, loss: 2.608534\n",
      "Epoch 41, loss: 2.608527\n",
      "Epoch 42, loss: 2.608521\n",
      "Epoch 43, loss: 2.608516\n",
      "Epoch 44, loss: 2.608512\n",
      "Epoch 45, loss: 2.608508\n",
      "Epoch 46, loss: 2.608505\n",
      "Epoch 47, loss: 2.608503\n",
      "Epoch 48, loss: 2.608502\n",
      "Epoch 49, loss: 2.608501\n",
      "Epoch 50, loss: 2.608501\n",
      "Epoch 51, loss: 2.608501\n",
      "Epoch 52, loss: 2.608502\n",
      "Epoch 53, loss: 2.608504\n",
      "Epoch 54, loss: 2.608507\n",
      "Epoch 55, loss: 2.608510\n",
      "Epoch 56, loss: 2.608514\n",
      "Epoch 57, loss: 2.608518\n",
      "Epoch 58, loss: 2.608524\n",
      "Epoch 59, loss: 2.608530\n",
      "Epoch 60, loss: 2.608536\n",
      "Epoch 61, loss: 2.608543\n",
      "Epoch 62, loss: 2.608551\n",
      "Epoch 63, loss: 2.608560\n",
      "Epoch 64, loss: 2.608569\n",
      "Epoch 65, loss: 2.608579\n",
      "Epoch 66, loss: 2.608590\n",
      "Epoch 67, loss: 2.608601\n",
      "Epoch 68, loss: 2.608613\n",
      "Epoch 69, loss: 2.608625\n",
      "Epoch 70, loss: 2.608639\n",
      "Epoch 71, loss: 2.608652\n",
      "Epoch 72, loss: 2.608667\n",
      "Epoch 73, loss: 2.608682\n",
      "Epoch 74, loss: 2.608698\n",
      "Epoch 75, loss: 2.608714\n",
      "Epoch 76, loss: 2.608731\n",
      "Epoch 77, loss: 2.608749\n",
      "Epoch 78, loss: 2.608767\n",
      "Epoch 79, loss: 2.608786\n",
      "Epoch 80, loss: 2.608806\n",
      "Epoch 81, loss: 2.608826\n",
      "Epoch 82, loss: 2.608847\n",
      "Epoch 83, loss: 2.608869\n",
      "Epoch 84, loss: 2.608891\n",
      "Epoch 85, loss: 2.608914\n",
      "Epoch 86, loss: 2.608937\n",
      "Epoch 87, loss: 2.608961\n",
      "Epoch 88, loss: 2.608986\n",
      "Epoch 89, loss: 2.609011\n",
      "Epoch 90, loss: 2.609037\n",
      "Epoch 91, loss: 2.609064\n",
      "Epoch 92, loss: 2.609091\n",
      "Epoch 93, loss: 2.609119\n",
      "Epoch 94, loss: 2.609147\n",
      "Epoch 95, loss: 2.609176\n",
      "Epoch 96, loss: 2.609206\n",
      "Epoch 97, loss: 2.609236\n",
      "Epoch 98, loss: 2.609267\n",
      "Epoch 99, loss: 2.609299\n",
      "Accuracy after training for 100 epochs:  0.125\n"
     ]
    }
   ],
   "source": [
    "# Let's check how it performs on validation set\n",
    "pred = classifier.predict(val_X)\n",
    "accuracy = multiclass_accuracy(pred, val_y)\n",
    "print(\"Accuracy: \", accuracy)\n",
    "\n",
    "# Now, let's train more and see if it performs better\n",
    "classifier.fit(train_X, train_y, epochs=100, learning_rate=1e-3, batch_size=300, reg=1e1)\n",
    "pred = classifier.predict(val_X)\n",
    "accuracy = multiclass_accuracy(pred, val_y)\n",
    "print(\"Accuracy after training for 100 epochs: \", accuracy)"
   ]
  },
  {
   "cell_type": "markdown",
   "metadata": {},
   "source": [
    "### Как и раньше, используем кросс-валидацию для подбора гиперпараметтов.\n",
    "\n",
    "В этот раз, чтобы тренировка занимала разумное время, мы будем использовать только одно разделение на тренировочные (training) и проверочные (validation) данные.\n",
    "\n",
    "Теперь нам нужно подобрать не один, а два гиперпараметра! Не ограничивайте себя изначальными значениями в коде.  \n",
    "Добейтесь точности более чем **20%** на проверочных данных (validation data)."
   ]
  },
  {
   "cell_type": "code",
   "execution_count": 14,
   "metadata": {},
   "outputs": [
    {
     "name": "stdout",
     "output_type": "stream",
     "text": [
      "Epoch 0, loss: 2.299253\n",
      "Epoch 1, loss: 2.296205\n",
      "Epoch 2, loss: 2.293332\n",
      "Epoch 3, loss: 2.290550\n",
      "Epoch 4, loss: 2.287845\n",
      "Epoch 5, loss: 2.285214\n",
      "Epoch 6, loss: 2.282651\n",
      "Epoch 7, loss: 2.280155\n",
      "Epoch 8, loss: 2.277721\n",
      "Epoch 9, loss: 2.275346\n",
      "Epoch 10, loss: 2.273029\n",
      "Epoch 11, loss: 2.270765\n",
      "Epoch 12, loss: 2.268554\n",
      "Epoch 13, loss: 2.266393\n",
      "Epoch 14, loss: 2.264280\n",
      "Epoch 15, loss: 2.262214\n",
      "Epoch 16, loss: 2.260192\n",
      "Epoch 17, loss: 2.258214\n",
      "Epoch 18, loss: 2.256277\n",
      "Epoch 19, loss: 2.254381\n",
      "Epoch 20, loss: 2.252524\n",
      "Epoch 21, loss: 2.250705\n",
      "Epoch 22, loss: 2.248923\n",
      "Epoch 23, loss: 2.247177\n",
      "Epoch 24, loss: 2.245466\n",
      "Epoch 25, loss: 2.243788\n",
      "Epoch 26, loss: 2.242144\n",
      "Epoch 27, loss: 2.240532\n",
      "Epoch 28, loss: 2.238952\n",
      "Epoch 29, loss: 2.237402\n",
      "Epoch 30, loss: 2.235882\n",
      "Epoch 31, loss: 2.234391\n",
      "Epoch 32, loss: 2.232929\n",
      "Epoch 33, loss: 2.231495\n",
      "Epoch 34, loss: 2.230087\n",
      "Epoch 35, loss: 2.228706\n",
      "Epoch 36, loss: 2.227352\n",
      "Epoch 37, loss: 2.226022\n",
      "Epoch 38, loss: 2.224717\n",
      "Epoch 39, loss: 2.223437\n",
      "Epoch 40, loss: 2.222180\n",
      "Epoch 41, loss: 2.220946\n",
      "Epoch 42, loss: 2.219734\n",
      "Epoch 43, loss: 2.218545\n",
      "Epoch 44, loss: 2.217378\n",
      "Epoch 45, loss: 2.216231\n",
      "Epoch 46, loss: 2.215105\n",
      "Epoch 47, loss: 2.214000\n",
      "Epoch 48, loss: 2.212914\n",
      "Epoch 49, loss: 2.211847\n",
      "Epoch 50, loss: 2.210800\n",
      "Epoch 51, loss: 2.209770\n",
      "Epoch 52, loss: 2.208759\n",
      "Epoch 53, loss: 2.207766\n",
      "Epoch 54, loss: 2.206789\n",
      "Epoch 55, loss: 2.205830\n",
      "Epoch 56, loss: 2.204887\n",
      "Epoch 57, loss: 2.203960\n",
      "Epoch 58, loss: 2.203049\n",
      "Epoch 59, loss: 2.202154\n",
      "Epoch 60, loss: 2.201273\n",
      "Epoch 61, loss: 2.200408\n",
      "Epoch 62, loss: 2.199556\n",
      "Epoch 63, loss: 2.198719\n",
      "Epoch 64, loss: 2.197896\n",
      "Epoch 65, loss: 2.197086\n",
      "Epoch 66, loss: 2.196289\n",
      "Epoch 67, loss: 2.195505\n",
      "Epoch 68, loss: 2.194734\n",
      "Epoch 69, loss: 2.193975\n",
      "Epoch 70, loss: 2.193228\n",
      "Epoch 71, loss: 2.192493\n",
      "Epoch 72, loss: 2.191770\n",
      "Epoch 73, loss: 2.191058\n",
      "Epoch 74, loss: 2.190357\n",
      "Epoch 75, loss: 2.189666\n",
      "Epoch 76, loss: 2.188987\n",
      "Epoch 77, loss: 2.188317\n",
      "Epoch 78, loss: 2.187658\n",
      "Epoch 79, loss: 2.187008\n",
      "Epoch 80, loss: 2.186369\n",
      "Epoch 81, loss: 2.185738\n",
      "Epoch 82, loss: 2.185117\n",
      "Epoch 83, loss: 2.184505\n",
      "Epoch 84, loss: 2.183902\n",
      "Epoch 85, loss: 2.183308\n",
      "Epoch 86, loss: 2.182722\n",
      "Epoch 87, loss: 2.182144\n",
      "Epoch 88, loss: 2.181574\n",
      "Epoch 89, loss: 2.181013\n",
      "Epoch 90, loss: 2.180459\n",
      "Epoch 91, loss: 2.179913\n",
      "Epoch 92, loss: 2.179374\n",
      "Epoch 93, loss: 2.178842\n",
      "Epoch 94, loss: 2.178318\n",
      "Epoch 95, loss: 2.177801\n",
      "Epoch 96, loss: 2.177290\n",
      "Epoch 97, loss: 2.176786\n",
      "Epoch 98, loss: 2.176289\n",
      "Epoch 99, loss: 2.175799\n",
      "Epoch 100, loss: 2.175314\n",
      "Epoch 101, loss: 2.174836\n",
      "Epoch 102, loss: 2.174363\n",
      "Epoch 103, loss: 2.173897\n",
      "Epoch 104, loss: 2.173437\n",
      "Epoch 105, loss: 2.172982\n",
      "Epoch 106, loss: 2.172532\n",
      "Epoch 107, loss: 2.172089\n",
      "Epoch 108, loss: 2.171650\n",
      "Epoch 109, loss: 2.171217\n",
      "Epoch 110, loss: 2.170789\n",
      "Epoch 111, loss: 2.170366\n",
      "Epoch 112, loss: 2.169947\n",
      "Epoch 113, loss: 2.169534\n",
      "Epoch 114, loss: 2.169125\n",
      "Epoch 115, loss: 2.168722\n",
      "Epoch 116, loss: 2.168322\n",
      "Epoch 117, loss: 2.167927\n",
      "Epoch 118, loss: 2.167537\n",
      "Epoch 119, loss: 2.167151\n",
      "Epoch 120, loss: 2.166769\n",
      "Epoch 121, loss: 2.166391\n",
      "Epoch 122, loss: 2.166017\n",
      "Epoch 123, loss: 2.165647\n",
      "Epoch 124, loss: 2.165281\n",
      "Epoch 125, loss: 2.164919\n",
      "Epoch 126, loss: 2.164561\n",
      "Epoch 127, loss: 2.164206\n",
      "Epoch 128, loss: 2.163855\n",
      "Epoch 129, loss: 2.163508\n",
      "Epoch 130, loss: 2.163164\n",
      "Epoch 131, loss: 2.162824\n",
      "Epoch 132, loss: 2.162486\n",
      "Epoch 133, loss: 2.162153\n",
      "Epoch 134, loss: 2.161822\n",
      "Epoch 135, loss: 2.161495\n",
      "Epoch 136, loss: 2.161171\n",
      "Epoch 137, loss: 2.160850\n",
      "Epoch 138, loss: 2.160532\n",
      "Epoch 139, loss: 2.160217\n",
      "Epoch 140, loss: 2.159904\n",
      "Epoch 141, loss: 2.159595\n",
      "Epoch 142, loss: 2.159289\n",
      "Epoch 143, loss: 2.158985\n",
      "Epoch 144, loss: 2.158684\n",
      "Epoch 145, loss: 2.158386\n",
      "Epoch 146, loss: 2.158090\n",
      "Epoch 147, loss: 2.157797\n"
     ]
    },
    {
     "ename": "KeyboardInterrupt",
     "evalue": "",
     "output_type": "error",
     "traceback": [
      "\u001b[1;31m---------------------------------------------------------------------------\u001b[0m",
      "\u001b[1;31mKeyboardInterrupt\u001b[0m                         Traceback (most recent call last)",
      "\u001b[1;32m<ipython-input-14-dcd3c71cd7a1>\u001b[0m in \u001b[0;36m<module>\u001b[1;34m\u001b[0m\n\u001b[0;32m      7\u001b[0m \u001b[1;32mfor\u001b[0m \u001b[0mlearning_rate\u001b[0m \u001b[1;32min\u001b[0m \u001b[0mlearning_rates\u001b[0m\u001b[1;33m:\u001b[0m\u001b[1;33m\u001b[0m\u001b[0m\n\u001b[0;32m      8\u001b[0m     \u001b[1;32mfor\u001b[0m \u001b[0mreg_strength\u001b[0m \u001b[1;32min\u001b[0m \u001b[0mreg_strengths\u001b[0m\u001b[1;33m:\u001b[0m\u001b[1;33m\u001b[0m\u001b[0m\n\u001b[1;32m----> 9\u001b[1;33m         \u001b[0mclassifier\u001b[0m\u001b[1;33m.\u001b[0m\u001b[0mfit\u001b[0m\u001b[1;33m(\u001b[0m\u001b[0mtrain_X\u001b[0m\u001b[1;33m,\u001b[0m \u001b[0mtrain_y\u001b[0m\u001b[1;33m,\u001b[0m \u001b[0mbatch_size\u001b[0m\u001b[1;33m,\u001b[0m \u001b[0mlearning_rate\u001b[0m\u001b[1;33m,\u001b[0m \u001b[0mreg_strength\u001b[0m\u001b[1;33m,\u001b[0m \u001b[0mnum_epochs\u001b[0m\u001b[1;33m)\u001b[0m\u001b[1;33m\u001b[0m\u001b[0m\n\u001b[0m\u001b[0;32m     10\u001b[0m         \u001b[0mpred\u001b[0m \u001b[1;33m=\u001b[0m \u001b[0mclassifier\u001b[0m\u001b[1;33m.\u001b[0m\u001b[0mpredict\u001b[0m\u001b[1;33m(\u001b[0m\u001b[0mval_X\u001b[0m\u001b[1;33m)\u001b[0m\u001b[1;33m\u001b[0m\u001b[0m\n\u001b[0;32m     11\u001b[0m         \u001b[0maccuracy\u001b[0m \u001b[1;33m=\u001b[0m \u001b[0mmulticlass_accuracy\u001b[0m\u001b[1;33m(\u001b[0m\u001b[0mpred\u001b[0m\u001b[1;33m,\u001b[0m \u001b[0mval_y\u001b[0m\u001b[1;33m)\u001b[0m\u001b[1;33m\u001b[0m\u001b[0m\n",
      "\u001b[1;32mD:\\src\\DL\\assignments\\assignment1\\linear_classifer.py\u001b[0m in \u001b[0;36mfit\u001b[1;34m(self, X, y, batch_size, learning_rate, reg, epochs)\u001b[0m\n\u001b[0;32m    160\u001b[0m             \u001b[1;31m# Don't forget to add both cross-entropy loss\u001b[0m\u001b[1;33m\u001b[0m\u001b[1;33m\u001b[0m\u001b[0m\n\u001b[0;32m    161\u001b[0m             \u001b[1;31m# and regularization!\u001b[0m\u001b[1;33m\u001b[0m\u001b[1;33m\u001b[0m\u001b[0m\n\u001b[1;32m--> 162\u001b[1;33m             \u001b[0mloss\u001b[0m\u001b[1;33m,\u001b[0m \u001b[0mdW\u001b[0m \u001b[1;33m=\u001b[0m \u001b[0mlinear_softmax\u001b[0m\u001b[1;33m(\u001b[0m\u001b[0mX\u001b[0m\u001b[1;33m,\u001b[0m \u001b[0mself\u001b[0m\u001b[1;33m.\u001b[0m\u001b[0mW\u001b[0m\u001b[1;33m,\u001b[0m \u001b[0my\u001b[0m\u001b[1;33m)\u001b[0m\u001b[1;33m\u001b[0m\u001b[0m\n\u001b[0m\u001b[0;32m    163\u001b[0m             \u001b[0mloss_reg\u001b[0m\u001b[1;33m,\u001b[0m \u001b[0mdW_reg\u001b[0m \u001b[1;33m=\u001b[0m \u001b[0ml2_regularization\u001b[0m\u001b[1;33m(\u001b[0m\u001b[0mself\u001b[0m\u001b[1;33m.\u001b[0m\u001b[0mW\u001b[0m\u001b[1;33m,\u001b[0m \u001b[0mreg\u001b[0m\u001b[1;33m)\u001b[0m\u001b[1;33m\u001b[0m\u001b[0m\n\u001b[0;32m    164\u001b[0m             \u001b[0mloss\u001b[0m \u001b[1;33m+=\u001b[0m \u001b[0mloss_reg\u001b[0m\u001b[1;33m\u001b[0m\u001b[0m\n",
      "\u001b[1;32mD:\\src\\DL\\assignments\\assignment1\\linear_classifer.py\u001b[0m in \u001b[0;36mlinear_softmax\u001b[1;34m(X, W, target_index)\u001b[0m\n\u001b[0;32m    117\u001b[0m     '''\n\u001b[0;32m    118\u001b[0m     \u001b[0mpredictions\u001b[0m \u001b[1;33m=\u001b[0m \u001b[0mnp\u001b[0m\u001b[1;33m.\u001b[0m\u001b[0mdot\u001b[0m\u001b[1;33m(\u001b[0m\u001b[0mX\u001b[0m\u001b[1;33m,\u001b[0m \u001b[0mW\u001b[0m\u001b[1;33m)\u001b[0m  \u001b[1;31m# num_batch * classes\u001b[0m\u001b[1;33m\u001b[0m\u001b[0m\n\u001b[1;32m--> 119\u001b[1;33m     \u001b[0mloss\u001b[0m\u001b[1;33m,\u001b[0m \u001b[0mdpredictions\u001b[0m \u001b[1;33m=\u001b[0m \u001b[0msoftmax_with_cross_entropy\u001b[0m\u001b[1;33m(\u001b[0m\u001b[0mpredictions\u001b[0m\u001b[1;33m.\u001b[0m\u001b[0mT\u001b[0m\u001b[1;33m,\u001b[0m \u001b[0mtarget_index\u001b[0m\u001b[1;33m)\u001b[0m  \u001b[1;31m# classes * num_batch\u001b[0m\u001b[1;33m\u001b[0m\u001b[0m\n\u001b[0m\u001b[0;32m    120\u001b[0m     \u001b[0mdW\u001b[0m \u001b[1;33m=\u001b[0m \u001b[0mnp\u001b[0m\u001b[1;33m.\u001b[0m\u001b[0mdot\u001b[0m\u001b[1;33m(\u001b[0m\u001b[0mdpredictions\u001b[0m\u001b[1;33m,\u001b[0m \u001b[0mX\u001b[0m\u001b[1;33m)\u001b[0m\u001b[1;33m.\u001b[0m\u001b[0mT\u001b[0m\u001b[1;33m\u001b[0m\u001b[0m\n\u001b[0;32m    121\u001b[0m     \u001b[1;32mreturn\u001b[0m \u001b[0mloss\u001b[0m\u001b[1;33m,\u001b[0m \u001b[0mdW\u001b[0m\u001b[1;33m\u001b[0m\u001b[0m\n",
      "\u001b[1;32mD:\\src\\DL\\assignments\\assignment1\\linear_classifer.py\u001b[0m in \u001b[0;36msoftmax_with_cross_entropy\u001b[1;34m(predictions, target_index)\u001b[0m\n\u001b[0;32m     75\u001b[0m     \u001b[1;32melse\u001b[0m\u001b[1;33m:\u001b[0m\u001b[1;33m\u001b[0m\u001b[0m\n\u001b[0;32m     76\u001b[0m         \u001b[1;32mfor\u001b[0m \u001b[0mcol\u001b[0m \u001b[1;32min\u001b[0m \u001b[0mrange\u001b[0m\u001b[1;33m(\u001b[0m\u001b[0mtarget_index\u001b[0m\u001b[1;33m.\u001b[0m\u001b[0mshape\u001b[0m\u001b[1;33m[\u001b[0m\u001b[1;36m0\u001b[0m\u001b[1;33m]\u001b[0m\u001b[1;33m)\u001b[0m\u001b[1;33m:\u001b[0m\u001b[1;33m\u001b[0m\u001b[0m\n\u001b[1;32m---> 77\u001b[1;33m             \u001b[0mdprediction\u001b[0m\u001b[1;33m[\u001b[0m\u001b[0mtarget_index\u001b[0m\u001b[1;33m[\u001b[0m\u001b[0mcol\u001b[0m\u001b[1;33m]\u001b[0m\u001b[1;33m,\u001b[0m \u001b[0mcol\u001b[0m\u001b[1;33m]\u001b[0m \u001b[1;33m-=\u001b[0m \u001b[1;36m1\u001b[0m\u001b[1;33m\u001b[0m\u001b[0m\n\u001b[0m\u001b[0;32m     78\u001b[0m         \u001b[0mdprediction\u001b[0m \u001b[1;33m=\u001b[0m \u001b[0mdprediction\u001b[0m \u001b[1;33m/\u001b[0m \u001b[0mtarget_index\u001b[0m\u001b[1;33m.\u001b[0m\u001b[0mshape\u001b[0m\u001b[1;33m[\u001b[0m\u001b[1;36m0\u001b[0m\u001b[1;33m]\u001b[0m\u001b[1;33m\u001b[0m\u001b[0m\n\u001b[0;32m     79\u001b[0m     \u001b[1;32mreturn\u001b[0m \u001b[0mloss\u001b[0m\u001b[1;33m,\u001b[0m \u001b[0mdprediction\u001b[0m\u001b[1;33m\u001b[0m\u001b[0m\n",
      "\u001b[1;31mKeyboardInterrupt\u001b[0m: "
     ]
    }
   ],
   "source": [
    "num_epochs = 200\n",
    "batch_size = 300\n",
    "\n",
    "learning_rates = [1e-1, 1e-2, 1e-3, 1e-4, 1e-5]\n",
    "reg_strengths = [1e-3, 1e-2, 1e-4, 1e-5, 1e-6, 1e-7]\n",
    "best_val_accuracy = 0\n",
    "for learning_rate in learning_rates:\n",
    "    for reg_strength in reg_strengths:\n",
    "        classifier.fit(train_X, train_y, batch_size, learning_rate, reg_strength, num_epochs)\n",
    "        pred = classifier.predict(val_X)\n",
    "        accuracy = multiclass_accuracy(pred, val_y)\n",
    "        print('Accuracy %f reg_strength %f learning rate %f' % (accuracy, reg_strength, learning_rate))\n",
    "        print('Accuracy %f reg_strength %f learning rate %f' % (accuracy, reg_strength, learning_rate), file=open(\"accuracy.txt\", \"a\"))\n",
    "        best_val_accuracy = max(best_val_accuracy, accuracy)\n",
    "        \n",
    "best_classifier = None\n",
    "# TODO use validation set to find the best hyperparameters\n",
    "# hint: for best results, you might need to try more values for learning rate and regularization strength \n",
    "# than provided initially\n",
    "\n",
    "print('best validation accuracy achieved: %f' % best_val_accuracy)"
   ]
  },
  {
   "cell_type": "markdown",
   "metadata": {},
   "source": [
    "# Какой же точности мы добились на тестовых данных?"
   ]
  },
  {
   "cell_type": "code",
   "execution_count": null,
   "metadata": {},
   "outputs": [],
   "source": [
    "test_pred = best_classifier.predict(test_X)\n",
    "test_accuracy = multiclass_accuracy(test_pred, test_y)\n",
    "print('Linear softmax classifier test set accuracy: %f' % (test_accuracy, ))"
   ]
  },
  {
   "cell_type": "code",
   "execution_count": null,
   "metadata": {},
   "outputs": [],
   "source": []
  }
 ],
 "metadata": {
  "kernelspec": {
   "display_name": "Python 3",
   "language": "python",
   "name": "python3"
  },
  "language_info": {
   "codemirror_mode": {
    "name": "ipython",
    "version": 3
   },
   "file_extension": ".py",
   "mimetype": "text/x-python",
   "name": "python",
   "nbconvert_exporter": "python",
   "pygments_lexer": "ipython3",
   "version": "3.7.0"
  }
 },
 "nbformat": 4,
 "nbformat_minor": 2
}
