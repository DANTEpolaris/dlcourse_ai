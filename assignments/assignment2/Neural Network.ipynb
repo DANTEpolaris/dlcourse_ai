{
 "cells": [
  {
   "cell_type": "markdown",
   "metadata": {},
   "source": [
    "# Задание 2.1 - Нейронные сети\n",
    "\n",
    "В этом задании вы реализуете и натренируете настоящую нейроную сеть своими руками!\n",
    "\n",
    "В некотором смысле это будет расширением прошлого задания - нам нужно просто составить несколько линейных классификаторов вместе!\n",
    "\n",
    "<img src=\"https://i.redd.it/n9fgba8b0qr01.png\" alt=\"Stack_more_layers\" width=\"400px\"/>"
   ]
  },
  {
   "cell_type": "code",
   "execution_count": 1,
   "metadata": {},
   "outputs": [],
   "source": [
    "import numpy as np\n",
    "import matplotlib.pyplot as plt\n",
    "\n",
    "%matplotlib inline\n",
    "\n",
    "%load_ext autoreload\n",
    "%autoreload 2"
   ]
  },
  {
   "cell_type": "code",
   "execution_count": 2,
   "metadata": {},
   "outputs": [],
   "source": [
    "from dataset import load_svhn, random_split_train_val\n",
    "from gradient_check import check_layer_gradient, check_layer_param_gradient, check_model_gradient\n",
    "from layers import FullyConnectedLayer, ReLULayer\n",
    "from model import TwoLayerNet\n",
    "from trainer import Trainer, Dataset\n",
    "from optim import SGD, MomentumSGD\n",
    "from metrics import multiclass_accuracy"
   ]
  },
  {
   "cell_type": "markdown",
   "metadata": {},
   "source": [
    "# Загружаем данные\n",
    "\n",
    "И разделяем их на training и validation."
   ]
  },
  {
   "cell_type": "code",
   "execution_count": 3,
   "metadata": {},
   "outputs": [],
   "source": [
    "def prepare_for_neural_network(train_X, test_X):\n",
    "    train_flat = train_X.reshape(train_X.shape[0], -1).astype(np.float) / 255.0\n",
    "    test_flat = test_X.reshape(test_X.shape[0], -1).astype(np.float) / 255.0\n",
    "    \n",
    "    # Subtract mean\n",
    "    mean_image = np.mean(train_flat, axis = 0)\n",
    "    train_flat -= mean_image\n",
    "    test_flat -= mean_image\n",
    "    \n",
    "    return train_flat, test_flat\n",
    "    \n",
    "train_X, train_y, test_X, test_y = load_svhn(\"data\", max_train=10000, max_test=1000)    \n",
    "train_X, test_X = prepare_for_neural_network(train_X, test_X)\n",
    "# Split train into train and val\n",
    "train_X, train_y, val_X, val_y = random_split_train_val(train_X, train_y, num_val = 1000)"
   ]
  },
  {
   "cell_type": "markdown",
   "metadata": {},
   "source": [
    "# Как всегда, начинаем с кирпичиков\n",
    "\n",
    "Мы будем реализовывать необходимые нам слои по очереди. Каждый слой должен реализовать:\n",
    "- прямой проход (forward pass), который генерирует выход слоя по входу и запоминает необходимые данные\n",
    "- обратный проход (backward pass), который получает градиент по выходу слоя и вычисляет градиент по входу и по параметрам\n",
    "\n",
    "Начнем с ReLU, у которого параметров нет."
   ]
  },
  {
   "cell_type": "code",
   "execution_count": 4,
   "metadata": {
    "scrolled": true
   },
   "outputs": [
    {
     "name": "stdout",
     "output_type": "stream",
     "text": [
      "Gradient check passed!\n"
     ]
    }
   ],
   "source": [
    "# TODO: Implement ReLULayer layer in layers.py\n",
    "# Note: you'll need to copy implementation of the gradient_check function from the previous assignment\n",
    "\n",
    "X = np.array([[1,-2,3],\n",
    "              [-1, 2, 0.1]\n",
    "              ])\n",
    "\n",
    "assert check_layer_gradient(ReLULayer(), X)"
   ]
  },
  {
   "cell_type": "markdown",
   "metadata": {},
   "source": [
    "А теперь реализуем полносвязный слой (fully connected layer), у которого будет два массива параметров: W (weights) и B (bias).\n",
    "\n",
    "Все параметры наши слои будут использовать для параметров специальный класс `Param`, в котором будут храниться значения параметров и градиенты этих параметров, вычисляемые во время обратного прохода.\n",
    "\n",
    "Это даст возможность аккумулировать (суммировать) градиенты из разных частей функции потерь, например, из cross-entropy loss и regularization loss."
   ]
  },
  {
   "cell_type": "code",
   "execution_count": 5,
   "metadata": {
    "scrolled": false
   },
   "outputs": [
    {
     "name": "stdout",
     "output_type": "stream",
     "text": [
      "Gradient check passed!\n",
      "Gradient check passed!\n",
      "Gradient check passed!\n"
     ]
    }
   ],
   "source": [
    "# TODO: Implement FullyConnected layer forward and backward methods\n",
    "assert check_layer_gradient(FullyConnectedLayer(3, 4), X)\n",
    "# TODO: Implement storing gradients for W and B\n",
    "assert check_layer_param_gradient(FullyConnectedLayer(3, 4), X, 'W')\n",
    "assert check_layer_param_gradient(FullyConnectedLayer(3, 4), X, 'B')"
   ]
  },
  {
   "cell_type": "markdown",
   "metadata": {},
   "source": [
    "## Создаем нейронную сеть\n",
    "\n",
    "Теперь мы реализуем простейшую нейронную сеть с двумя полносвязным слоями и нелинейностью ReLU. Реализуйте функцию `compute_loss_and_gradients`, она должна запустить прямой и обратный проход через оба слоя для вычисления градиентов.\n",
    "\n",
    "Не забудьте реализовать очистку градиентов в начале функции."
   ]
  },
  {
   "cell_type": "code",
   "execution_count": 6,
   "metadata": {
    "scrolled": true
   },
   "outputs": [
    {
     "name": "stdout",
     "output_type": "stream",
     "text": [
      "Checking gradient for W1\n",
      "Gradient check passed!\n",
      "Checking gradient for W2\n",
      "Gradient check passed!\n",
      "Checking gradient for B1\n",
      "Gradient check passed!\n",
      "Checking gradient for B2\n",
      "Gradient check passed!\n"
     ]
    },
    {
     "data": {
      "text/plain": [
       "True"
      ]
     },
     "execution_count": 6,
     "metadata": {},
     "output_type": "execute_result"
    }
   ],
   "source": [
    "# TODO: In model.py, implement compute_loss_and_gradients function\n",
    "model = TwoLayerNet(n_input = train_X.shape[1], n_output = 10, hidden_layer_size = 3, reg = 0)\n",
    "loss = model.compute_loss_and_gradients(train_X[:2], train_y[:2])\n",
    "# TODO Now implement backward pass and aggregate all of the params\n",
    "check_model_gradient(model, train_X[:2], train_y[:2])"
   ]
  },
  {
   "cell_type": "markdown",
   "metadata": {},
   "source": [
    "Теперь добавьте к модели регуляризацию - она должна прибавляться к loss и делать свой вклад в градиенты."
   ]
  },
  {
   "cell_type": "code",
   "execution_count": 7,
   "metadata": {},
   "outputs": [
    {
     "name": "stdout",
     "output_type": "stream",
     "text": [
      "Checking gradient for W1\n",
      "Gradient check passed!\n",
      "Checking gradient for W2\n",
      "Gradient check passed!\n",
      "Checking gradient for B1\n",
      "Gradient check passed!\n",
      "Checking gradient for B2\n",
      "Gradient check passed!\n"
     ]
    },
    {
     "data": {
      "text/plain": [
       "True"
      ]
     },
     "execution_count": 7,
     "metadata": {},
     "output_type": "execute_result"
    }
   ],
   "source": [
    "# TODO Now implement l2 regularization in the forward and backward pass\n",
    "model_with_reg = TwoLayerNet(n_input = train_X.shape[1], n_output = 10, hidden_layer_size = 3, reg = 1e1)\n",
    "loss_with_reg = model_with_reg.compute_loss_and_gradients(train_X[:2], train_y[:2])\n",
    "assert loss_with_reg > loss and not np.isclose(loss_with_reg, loss), \\\n",
    "    \"Loss with regularization (%2.4f) should be higher than without it (%2.4f)!\" % (loss, loss_with_reg)\n",
    "\n",
    "check_model_gradient(model_with_reg, train_X[:2], train_y[:2])"
   ]
  },
  {
   "cell_type": "markdown",
   "metadata": {},
   "source": [
    "Также реализуем функцию предсказания (вычисления значения) модели на новых данных.\n",
    "\n",
    "Какое значение точности мы ожидаем увидеть до начала тренировки?"
   ]
  },
  {
   "cell_type": "code",
   "execution_count": 8,
   "metadata": {},
   "outputs": [
    {
     "data": {
      "text/plain": [
       "0.09999999999999998"
      ]
     },
     "execution_count": 8,
     "metadata": {},
     "output_type": "execute_result"
    }
   ],
   "source": [
    "# Finally, implement predict function!\n",
    "\n",
    "# TODO: Implement predict function\n",
    "# What would be the value we expect?\n",
    "multiclass_accuracy(model_with_reg.predict(train_X[:30]), train_y[:30]) "
   ]
  },
  {
   "cell_type": "markdown",
   "metadata": {},
   "source": [
    "# Допишем код для процесса тренировки"
   ]
  },
  {
   "cell_type": "code",
   "execution_count": 9,
   "metadata": {},
   "outputs": [
    {
     "name": "stdout",
     "output_type": "stream",
     "text": [
      "Loss: 1.937383, Train accuracy: 0.228222, val accuracy: 0.241000\n",
      "Loss: 1.691970, Train accuracy: 0.434000, val accuracy: 0.435000\n",
      "Loss: 1.207969, Train accuracy: 0.531111, val accuracy: 0.546000\n",
      "Loss: 1.253839, Train accuracy: 0.643667, val accuracy: 0.623000\n",
      "Loss: 0.990129, Train accuracy: 0.683444, val accuracy: 0.647000\n",
      "Loss: 0.516938, Train accuracy: 0.717889, val accuracy: 0.673000\n",
      "Loss: 0.708548, Train accuracy: 0.724889, val accuracy: 0.680000\n",
      "Loss: 0.559733, Train accuracy: 0.753111, val accuracy: 0.703000\n",
      "Loss: 0.998737, Train accuracy: 0.758556, val accuracy: 0.708000\n",
      "Loss: 0.427538, Train accuracy: 0.764111, val accuracy: 0.698000\n",
      "Loss: 1.054560, Train accuracy: 0.767222, val accuracy: 0.707000\n",
      "Loss: 0.733797, Train accuracy: 0.785778, val accuracy: 0.709000\n",
      "Loss: 0.686326, Train accuracy: 0.807222, val accuracy: 0.725000\n",
      "Loss: 0.602962, Train accuracy: 0.811778, val accuracy: 0.726000\n",
      "Loss: 0.853548, Train accuracy: 0.806556, val accuracy: 0.720000\n",
      "Loss: 0.515570, Train accuracy: 0.808333, val accuracy: 0.710000\n",
      "Loss: 0.786611, Train accuracy: 0.842000, val accuracy: 0.738000\n",
      "Loss: 1.003634, Train accuracy: 0.830111, val accuracy: 0.725000\n",
      "Loss: 0.688869, Train accuracy: 0.849222, val accuracy: 0.730000\n",
      "Loss: 1.168913, Train accuracy: 0.864556, val accuracy: 0.735000\n"
     ]
    }
   ],
   "source": [
    "model = TwoLayerNet(n_input = train_X.shape[1], n_output = 10, hidden_layer_size = 100, reg = 1e-5)\n",
    "dataset = Dataset(train_X, train_y, val_X, val_y)\n",
    "trainer = Trainer(model, dataset, SGD(), learning_rate=1e-1)\n",
    "\n",
    "# TODO Implement missing pieces in Trainer.fit function\n",
    "# You should expect loss to go down and train and val accuracy go up for every epoch\n",
    "loss_history, train_history, val_history = trainer.fit()"
   ]
  },
  {
   "cell_type": "code",
   "execution_count": 10,
   "metadata": {},
   "outputs": [
    {
     "data": {
      "text/plain": [
       "[<matplotlib.lines.Line2D at 0x1aa72474438>]"
      ]
     },
     "execution_count": 10,
     "metadata": {},
     "output_type": "execute_result"
    },
    {
     "data": {
      "image/png": "[encoded data removed]",
      "text/plain": [
       "<Figure size 432x288 with 1 Axes>"
      ]
     },
     "metadata": {
      "needs_background": "light"
     },
     "output_type": "display_data"
    }
   ],
   "source": [
    "plt.plot(train_history)\n",
    "plt.plot(val_history)"
   ]
  },
  {
   "cell_type": "markdown",
   "metadata": {},
   "source": [
    "# Улучшаем процесс тренировки\n",
    "\n",
    "Мы реализуем несколько ключевых оптимизаций, необходимых для тренировки современных нейросетей."
   ]
  },
  {
   "cell_type": "markdown",
   "metadata": {},
   "source": [
    "## Уменьшение скорости обучения (learning rate decay)\n",
    "\n",
    "Одна из необходимых оптимизаций во время тренировки нейронных сетей - постепенное уменьшение скорости обучения по мере тренировки.\n",
    "\n",
    "Один из стандартных методов - уменьшение скорости обучения (learning rate) каждые N эпох на коэффициент d (часто называемый decay). Значения N и d, как всегда, являются гиперпараметрами и должны подбираться на основе эффективности на проверочных данных (validation data). \n",
    "\n",
    "В нашем случае N будет равным 1."
   ]
  },
  {
   "cell_type": "code",
   "execution_count": 11,
   "metadata": {},
   "outputs": [
    {
     "name": "stdout",
     "output_type": "stream",
     "text": [
      "Loss: 1.991167, Train accuracy: 0.297778, val accuracy: 0.309000\n",
      "Loss: 1.661923, Train accuracy: 0.576222, val accuracy: 0.563000\n",
      "Loss: 1.889620, Train accuracy: 0.615889, val accuracy: 0.588000\n",
      "Loss: 0.807743, Train accuracy: 0.665556, val accuracy: 0.650000\n",
      "Loss: 1.163531, Train accuracy: 0.704889, val accuracy: 0.659000\n",
      "Loss: 1.848948, Train accuracy: 0.723667, val accuracy: 0.682000\n",
      "Loss: 0.722320, Train accuracy: 0.735111, val accuracy: 0.694000\n",
      "Loss: 0.830592, Train accuracy: 0.768444, val accuracy: 0.700000\n",
      "Loss: 1.385704, Train accuracy: 0.740333, val accuracy: 0.682000\n",
      "Loss: 0.548935, Train accuracy: 0.796000, val accuracy: 0.719000\n",
      "Loss: 0.627751, Train accuracy: 0.803889, val accuracy: 0.708000\n",
      "Loss: 0.348919, Train accuracy: 0.819222, val accuracy: 0.725000\n",
      "Loss: 0.912425, Train accuracy: 0.810333, val accuracy: 0.704000\n",
      "Loss: 0.449253, Train accuracy: 0.812778, val accuracy: 0.710000\n",
      "Loss: 0.923551, Train accuracy: 0.791000, val accuracy: 0.705000\n",
      "Loss: 0.649664, Train accuracy: 0.793667, val accuracy: 0.689000\n",
      "Loss: 0.565465, Train accuracy: 0.833667, val accuracy: 0.723000\n",
      "Loss: 0.477759, Train accuracy: 0.850667, val accuracy: 0.714000\n",
      "Loss: 0.569946, Train accuracy: 0.842222, val accuracy: 0.703000\n",
      "Loss: 0.431602, Train accuracy: 0.879556, val accuracy: 0.732000\n"
     ]
    }
   ],
   "source": [
    "# TODO Implement learning rate decay inside Trainer.fit method\n",
    "# Decay should happen once per epoch\n",
    "\n",
    "model = TwoLayerNet(n_input = train_X.shape[1], n_output = 10, hidden_layer_size = 100, reg = 1e-5)\n",
    "dataset = Dataset(train_X, train_y, val_X, val_y)\n",
    "trainer = Trainer(model, dataset, SGD(), learning_rate=15e-2, learning_rate_decay=0.99)\n",
    "\n",
    "initial_learning_rate = trainer.learning_rate\n",
    "loss_history, train_history, val_history = trainer.fit()\n",
    "\n",
    "assert trainer.learning_rate < initial_learning_rate, \"Learning rate should've been reduced\"\n",
    "assert trainer.learning_rate > 0.5*initial_learning_rate, \"Learning rate shouldn'tve been reduced that much!\""
   ]
  },
  {
   "cell_type": "markdown",
   "metadata": {},
   "source": [
    "# Накопление импульса (Momentum SGD)\n",
    "\n",
    "Другой большой класс оптимизаций - использование более эффективных методов градиентного спуска. Мы реализуем один из них - накопление импульса (Momentum SGD).\n",
    "\n",
    "Этот метод хранит скорость движения, использует градиент для ее изменения на каждом шаге, и изменяет веса пропорционально значению скорости.\n",
    "(Физическая аналогия: Вместо скорости градиенты теперь будут задавать ускорение, но будет присутствовать сила трения.)\n",
    "\n",
    "```\n",
    "velocity = momentum * velocity - learning_rate * gradient \n",
    "w = w + velocity\n",
    "```\n",
    "\n",
    "`momentum` здесь коэффициент затухания, который тоже является гиперпараметром (к счастью, для него часто есть хорошее значение по умолчанию, типичный диапазон -- 0.8-0.99).\n",
    "\n",
    "Несколько полезных ссылок, где метод разбирается более подробно:  \n",
    "http://cs231n.github.io/neural-networks-3/#sgd  \n",
    "https://distill.pub/2017/momentum/"
   ]
  },
  {
   "cell_type": "code",
   "execution_count": 12,
   "metadata": {},
   "outputs": [
    {
     "name": "stdout",
     "output_type": "stream",
     "text": [
      "Loss: 2.088906, Train accuracy: 0.201000, val accuracy: 0.210000\n",
      "Loss: 1.725543, Train accuracy: 0.368111, val accuracy: 0.373000\n",
      "Loss: 1.253919, Train accuracy: 0.564333, val accuracy: 0.553000\n",
      "Loss: 1.224864, Train accuracy: 0.635000, val accuracy: 0.617000\n",
      "Loss: 1.168459, Train accuracy: 0.679889, val accuracy: 0.653000\n",
      "Loss: 1.651818, Train accuracy: 0.690000, val accuracy: 0.663000\n",
      "Loss: 0.955525, Train accuracy: 0.736111, val accuracy: 0.693000\n",
      "Loss: 1.009603, Train accuracy: 0.720222, val accuracy: 0.670000\n",
      "Loss: 0.764414, Train accuracy: 0.766667, val accuracy: 0.705000\n",
      "Loss: 0.958216, Train accuracy: 0.779556, val accuracy: 0.706000\n",
      "Loss: 0.543668, Train accuracy: 0.805000, val accuracy: 0.721000\n",
      "Loss: 0.572376, Train accuracy: 0.801667, val accuracy: 0.718000\n",
      "Loss: 0.403788, Train accuracy: 0.825222, val accuracy: 0.711000\n",
      "Loss: 0.355430, Train accuracy: 0.824778, val accuracy: 0.716000\n",
      "Loss: 0.961970, Train accuracy: 0.850556, val accuracy: 0.740000\n",
      "Loss: 0.659453, Train accuracy: 0.835111, val accuracy: 0.736000\n",
      "Loss: 0.649940, Train accuracy: 0.844444, val accuracy: 0.725000\n",
      "Loss: 0.692535, Train accuracy: 0.850556, val accuracy: 0.741000\n",
      "Loss: 0.264899, Train accuracy: 0.859000, val accuracy: 0.728000\n",
      "Loss: 0.217131, Train accuracy: 0.870333, val accuracy: 0.732000\n"
     ]
    }
   ],
   "source": [
    "# TODO: Implement MomentumSGD.update function in optim.py\n",
    "\n",
    "model = TwoLayerNet(n_input = train_X.shape[1], n_output = 10, hidden_layer_size = 100, reg = 1e-5)\n",
    "dataset = Dataset(train_X, train_y, val_X, val_y)\n",
    "trainer = Trainer(model, dataset, MomentumSGD(), learning_rate=1e-2, learning_rate_decay=0.99)\n",
    "\n",
    "# You should see even better results than before!\n",
    "loss_history, train_history, val_history = trainer.fit()"
   ]
  },
  {
   "cell_type": "markdown",
   "metadata": {},
   "source": [
    "# Ну что, давайте уже тренировать сеть!"
   ]
  },
  {
   "cell_type": "markdown",
   "metadata": {},
   "source": [
    "## Последний тест - переобучимся (overfit) на маленьком наборе данных\n",
    "\n",
    "Хороший способ проверить, все ли реализовано корректно - переобучить сеть на маленьком наборе данных.  \n",
    "Наша модель обладает достаточной мощностью, чтобы приблизить маленький набор данных идеально, поэтому мы ожидаем, что на нем мы быстро дойдем до 100% точности на тренировочном наборе. \n",
    "\n",
    "Если этого не происходит, то где-то была допущена ошибка!"
   ]
  },
  {
   "cell_type": "code",
   "execution_count": 13,
   "metadata": {},
   "outputs": [
    {
     "name": "stdout",
     "output_type": "stream",
     "text": [
      "Loss: 2.331536, Train accuracy: 0.066667, val accuracy: 0.066667\n",
      "Loss: 2.327809, Train accuracy: 0.066667, val accuracy: 0.066667\n",
      "Loss: 2.324410, Train accuracy: 0.400000, val accuracy: 0.000000\n",
      "Loss: 2.321467, Train accuracy: 0.400000, val accuracy: 0.000000\n",
      "Loss: 2.317159, Train accuracy: 0.400000, val accuracy: 0.000000\n",
      "Loss: 2.314732, Train accuracy: 0.333333, val accuracy: 0.000000\n",
      "Loss: 2.298972, Train accuracy: 0.333333, val accuracy: 0.000000\n",
      "Loss: 2.265042, Train accuracy: 0.333333, val accuracy: 0.000000\n",
      "Loss: 2.164654, Train accuracy: 0.333333, val accuracy: 0.000000\n",
      "Loss: 2.026035, Train accuracy: 0.333333, val accuracy: 0.000000\n",
      "Loss: 1.928404, Train accuracy: 0.333333, val accuracy: 0.000000\n",
      "Loss: 2.276459, Train accuracy: 0.333333, val accuracy: 0.000000\n",
      "Loss: 1.694029, Train accuracy: 0.333333, val accuracy: 0.000000\n",
      "Loss: 2.279258, Train accuracy: 0.333333, val accuracy: 0.000000\n",
      "Loss: 1.980433, Train accuracy: 0.333333, val accuracy: 0.000000\n",
      "Loss: 1.671532, Train accuracy: 0.333333, val accuracy: 0.000000\n",
      "Loss: 2.072443, Train accuracy: 0.333333, val accuracy: 0.000000\n",
      "Loss: 1.404688, Train accuracy: 0.333333, val accuracy: 0.000000\n",
      "Loss: 1.510229, Train accuracy: 0.333333, val accuracy: 0.000000\n",
      "Loss: 1.802216, Train accuracy: 0.333333, val accuracy: 0.000000\n",
      "Loss: 2.001019, Train accuracy: 0.333333, val accuracy: 0.000000\n",
      "Loss: 1.564169, Train accuracy: 0.333333, val accuracy: 0.000000\n",
      "Loss: 2.000170, Train accuracy: 0.333333, val accuracy: 0.000000\n",
      "Loss: 1.861683, Train accuracy: 0.333333, val accuracy: 0.000000\n",
      "Loss: 1.284141, Train accuracy: 0.400000, val accuracy: 0.000000\n",
      "Loss: 2.091501, Train accuracy: 0.400000, val accuracy: 0.000000\n",
      "Loss: 1.756062, Train accuracy: 0.400000, val accuracy: 0.000000\n",
      "Loss: 2.170402, Train accuracy: 0.400000, val accuracy: 0.000000\n",
      "Loss: 2.028377, Train accuracy: 0.400000, val accuracy: 0.000000\n",
      "Loss: 1.337819, Train accuracy: 0.400000, val accuracy: 0.000000\n",
      "Loss: 1.811381, Train accuracy: 0.466667, val accuracy: 0.000000\n",
      "Loss: 1.655966, Train accuracy: 0.466667, val accuracy: 0.000000\n",
      "Loss: 1.423664, Train accuracy: 0.400000, val accuracy: 0.000000\n",
      "Loss: 1.967618, Train accuracy: 0.533333, val accuracy: 0.000000\n",
      "Loss: 1.688980, Train accuracy: 0.600000, val accuracy: 0.000000\n",
      "Loss: 2.051869, Train accuracy: 0.533333, val accuracy: 0.000000\n",
      "Loss: 1.096052, Train accuracy: 0.600000, val accuracy: 0.000000\n",
      "Loss: 1.644434, Train accuracy: 0.600000, val accuracy: 0.000000\n",
      "Loss: 1.736020, Train accuracy: 0.600000, val accuracy: 0.000000\n",
      "Loss: 1.928440, Train accuracy: 0.600000, val accuracy: 0.000000\n",
      "Loss: 2.498896, Train accuracy: 0.600000, val accuracy: 0.000000\n",
      "Loss: 1.142952, Train accuracy: 0.600000, val accuracy: 0.000000\n",
      "Loss: 1.712883, Train accuracy: 0.600000, val accuracy: 0.000000\n",
      "Loss: 1.744973, Train accuracy: 0.600000, val accuracy: 0.000000\n",
      "Loss: 1.462830, Train accuracy: 0.600000, val accuracy: 0.000000\n",
      "Loss: 1.926650, Train accuracy: 0.600000, val accuracy: 0.000000\n",
      "Loss: 1.384994, Train accuracy: 0.600000, val accuracy: 0.000000\n",
      "Loss: 1.641820, Train accuracy: 0.666667, val accuracy: 0.000000\n",
      "Loss: 1.690040, Train accuracy: 0.666667, val accuracy: 0.000000\n",
      "Loss: 1.363534, Train accuracy: 0.733333, val accuracy: 0.000000\n",
      "Loss: 1.594940, Train accuracy: 0.666667, val accuracy: 0.000000\n",
      "Loss: 1.640557, Train accuracy: 0.733333, val accuracy: 0.000000\n",
      "Loss: 1.596898, Train accuracy: 0.733333, val accuracy: 0.000000\n",
      "Loss: 1.899764, Train accuracy: 0.733333, val accuracy: 0.000000\n",
      "Loss: 1.599870, Train accuracy: 0.733333, val accuracy: 0.000000\n",
      "Loss: 1.662263, Train accuracy: 0.733333, val accuracy: 0.000000\n",
      "Loss: 1.083183, Train accuracy: 0.733333, val accuracy: 0.000000\n",
      "Loss: 1.012170, Train accuracy: 0.733333, val accuracy: 0.000000\n",
      "Loss: 1.564296, Train accuracy: 0.733333, val accuracy: 0.000000\n",
      "Loss: 1.004633, Train accuracy: 0.733333, val accuracy: 0.000000\n",
      "Loss: 2.094925, Train accuracy: 0.733333, val accuracy: 0.000000\n",
      "Loss: 1.671883, Train accuracy: 0.733333, val accuracy: 0.000000\n",
      "Loss: 1.371514, Train accuracy: 0.733333, val accuracy: 0.000000\n",
      "Loss: 1.370925, Train accuracy: 0.733333, val accuracy: 0.000000\n",
      "Loss: 2.010186, Train accuracy: 0.800000, val accuracy: 0.000000\n",
      "Loss: 1.322573, Train accuracy: 0.800000, val accuracy: 0.000000\n",
      "Loss: 1.282410, Train accuracy: 0.800000, val accuracy: 0.000000\n",
      "Loss: 0.923735, Train accuracy: 0.800000, val accuracy: 0.000000\n",
      "Loss: 1.191248, Train accuracy: 0.800000, val accuracy: 0.000000\n",
      "Loss: 1.785722, Train accuracy: 0.800000, val accuracy: 0.066667\n",
      "Loss: 1.649640, Train accuracy: 0.800000, val accuracy: 0.000000\n",
      "Loss: 1.236244, Train accuracy: 0.800000, val accuracy: 0.000000\n",
      "Loss: 1.596470, Train accuracy: 0.800000, val accuracy: 0.000000\n",
      "Loss: 1.763747, Train accuracy: 0.800000, val accuracy: 0.000000\n",
      "Loss: 1.289784, Train accuracy: 0.800000, val accuracy: 0.000000\n",
      "Loss: 1.812939, Train accuracy: 0.800000, val accuracy: 0.000000\n",
      "Loss: 2.055681, Train accuracy: 0.800000, val accuracy: 0.000000\n",
      "Loss: 1.393128, Train accuracy: 0.800000, val accuracy: 0.066667\n",
      "Loss: 0.980029, Train accuracy: 0.800000, val accuracy: 0.066667\n",
      "Loss: 1.645135, Train accuracy: 0.800000, val accuracy: 0.066667\n",
      "Loss: 1.660953, Train accuracy: 0.800000, val accuracy: 0.000000\n",
      "Loss: 1.165817, Train accuracy: 0.800000, val accuracy: 0.000000\n",
      "Loss: 1.309539, Train accuracy: 0.800000, val accuracy: 0.000000\n",
      "Loss: 1.576389, Train accuracy: 0.800000, val accuracy: 0.000000\n",
      "Loss: 0.953137, Train accuracy: 0.800000, val accuracy: 0.000000\n",
      "Loss: 1.274374, Train accuracy: 0.866667, val accuracy: 0.000000\n",
      "Loss: 1.310576, Train accuracy: 0.866667, val accuracy: 0.066667\n",
      "Loss: 0.939462, Train accuracy: 0.866667, val accuracy: 0.000000\n",
      "Loss: 1.379864, Train accuracy: 0.866667, val accuracy: 0.066667\n",
      "Loss: 1.708357, Train accuracy: 0.866667, val accuracy: 0.000000\n",
      "Loss: 1.394707, Train accuracy: 0.866667, val accuracy: 0.000000\n",
      "Loss: 1.632183, Train accuracy: 0.866667, val accuracy: 0.000000\n",
      "Loss: 1.567198, Train accuracy: 0.866667, val accuracy: 0.000000\n",
      "Loss: 1.218064, Train accuracy: 0.866667, val accuracy: 0.000000\n",
      "Loss: 1.316126, Train accuracy: 0.866667, val accuracy: 0.000000\n",
      "Loss: 1.295034, Train accuracy: 0.866667, val accuracy: 0.000000\n",
      "Loss: 1.051334, Train accuracy: 0.866667, val accuracy: 0.066667\n",
      "Loss: 1.721393, Train accuracy: 0.866667, val accuracy: 0.066667\n",
      "Loss: 1.277583, Train accuracy: 0.866667, val accuracy: 0.000000\n",
      "Loss: 1.587643, Train accuracy: 0.866667, val accuracy: 0.066667\n",
      "Loss: 1.887955, Train accuracy: 0.866667, val accuracy: 0.066667\n",
      "Loss: 1.329934, Train accuracy: 0.866667, val accuracy: 0.066667\n",
      "Loss: 1.886486, Train accuracy: 0.866667, val accuracy: 0.066667\n",
      "Loss: 1.161714, Train accuracy: 0.866667, val accuracy: 0.066667\n",
      "Loss: 1.336610, Train accuracy: 0.866667, val accuracy: 0.000000\n",
      "Loss: 1.280655, Train accuracy: 0.866667, val accuracy: 0.000000\n",
      "Loss: 1.444234, Train accuracy: 0.866667, val accuracy: 0.000000\n",
      "Loss: 1.587572, Train accuracy: 0.866667, val accuracy: 0.000000\n",
      "Loss: 1.260126, Train accuracy: 0.866667, val accuracy: 0.066667\n",
      "Loss: 1.258582, Train accuracy: 0.933333, val accuracy: 0.000000\n",
      "Loss: 1.561379, Train accuracy: 0.933333, val accuracy: 0.000000\n",
      "Loss: 1.275210, Train accuracy: 0.933333, val accuracy: 0.000000\n",
      "Loss: 1.102041, Train accuracy: 0.933333, val accuracy: 0.000000\n",
      "Loss: 1.341083, Train accuracy: 0.933333, val accuracy: 0.000000\n",
      "Loss: 1.383627, Train accuracy: 0.933333, val accuracy: 0.000000\n",
      "Loss: 1.426870, Train accuracy: 1.000000, val accuracy: 0.066667\n",
      "Loss: 1.497271, Train accuracy: 0.933333, val accuracy: 0.000000\n",
      "Loss: 1.363796, Train accuracy: 0.933333, val accuracy: 0.000000\n",
      "Loss: 1.599793, Train accuracy: 1.000000, val accuracy: 0.000000\n",
      "Loss: 1.668012, Train accuracy: 0.933333, val accuracy: 0.000000\n",
      "Loss: 1.241540, Train accuracy: 0.933333, val accuracy: 0.000000\n",
      "Loss: 1.712235, Train accuracy: 1.000000, val accuracy: 0.000000\n",
      "Loss: 1.150542, Train accuracy: 1.000000, val accuracy: 0.000000\n",
      "Loss: 1.628581, Train accuracy: 1.000000, val accuracy: 0.000000\n",
      "Loss: 1.347210, Train accuracy: 1.000000, val accuracy: 0.000000\n",
      "Loss: 1.162810, Train accuracy: 1.000000, val accuracy: 0.000000\n"
     ]
    },
    {
     "name": "stdout",
     "output_type": "stream",
     "text": [
      "Loss: 1.205019, Train accuracy: 1.000000, val accuracy: 0.000000\n",
      "Loss: 1.115407, Train accuracy: 1.000000, val accuracy: 0.000000\n",
      "Loss: 1.014869, Train accuracy: 1.000000, val accuracy: 0.000000\n",
      "Loss: 1.673745, Train accuracy: 1.000000, val accuracy: 0.000000\n",
      "Loss: 1.645457, Train accuracy: 1.000000, val accuracy: 0.000000\n",
      "Loss: 1.412371, Train accuracy: 1.000000, val accuracy: 0.000000\n",
      "Loss: 1.209850, Train accuracy: 1.000000, val accuracy: 0.000000\n",
      "Loss: 1.195837, Train accuracy: 0.933333, val accuracy: 0.000000\n",
      "Loss: 1.275738, Train accuracy: 1.000000, val accuracy: 0.000000\n",
      "Loss: 1.391908, Train accuracy: 1.000000, val accuracy: 0.000000\n",
      "Loss: 1.238971, Train accuracy: 1.000000, val accuracy: 0.000000\n",
      "Loss: 1.435165, Train accuracy: 1.000000, val accuracy: 0.000000\n",
      "Loss: 1.385543, Train accuracy: 1.000000, val accuracy: 0.000000\n",
      "Loss: 1.107614, Train accuracy: 1.000000, val accuracy: 0.000000\n",
      "Loss: 1.481251, Train accuracy: 1.000000, val accuracy: 0.000000\n",
      "Loss: 1.406406, Train accuracy: 1.000000, val accuracy: 0.000000\n",
      "Loss: 1.218750, Train accuracy: 1.000000, val accuracy: 0.000000\n",
      "Loss: 1.483962, Train accuracy: 1.000000, val accuracy: 0.000000\n",
      "Loss: 1.339460, Train accuracy: 1.000000, val accuracy: 0.000000\n",
      "Loss: 1.480786, Train accuracy: 1.000000, val accuracy: 0.000000\n",
      "Loss: 1.319428, Train accuracy: 1.000000, val accuracy: 0.000000\n",
      "Loss: 1.372459, Train accuracy: 1.000000, val accuracy: 0.000000\n",
      "Loss: 1.491327, Train accuracy: 1.000000, val accuracy: 0.000000\n",
      "Loss: 1.462726, Train accuracy: 1.000000, val accuracy: 0.000000\n"
     ]
    }
   ],
   "source": [
    "data_size = 15\n",
    "model = TwoLayerNet(n_input = train_X.shape[1], n_output = 10, hidden_layer_size = 100, reg = 1e-1)\n",
    "dataset = Dataset(train_X[:data_size], train_y[:data_size], val_X[:data_size], val_y[:data_size])\n",
    "trainer = Trainer(model, dataset, SGD(), learning_rate=1e-1, num_epochs=150, batch_size=5)\n",
    "\n",
    "# You should expect this to reach 1.0 training accuracy \n",
    "loss_history, train_history, val_history = trainer.fit()"
   ]
  },
  {
   "cell_type": "markdown",
   "metadata": {},
   "source": [
    "Теперь найдем гипепараметры, для которых этот процесс сходится быстрее.\n",
    "Если все реализовано корректно, то существуют параметры, при которых процесс сходится в **20** эпох или еще быстрее.\n",
    "Найдите их!"
   ]
  },
  {
   "cell_type": "code",
   "execution_count": 17,
   "metadata": {},
   "outputs": [
    {
     "name": "stdout",
     "output_type": "stream",
     "text": [
      "Loss: 2.302374, Train accuracy: 0.200000, val accuracy: 0.066667\n",
      "Loss: 2.300644, Train accuracy: 0.333333, val accuracy: 0.000000\n",
      "Loss: 2.295383, Train accuracy: 0.333333, val accuracy: 0.000000\n",
      "Loss: 2.018488, Train accuracy: 0.333333, val accuracy: 0.000000\n",
      "Loss: 2.079099, Train accuracy: 0.133333, val accuracy: 0.133333\n",
      "Loss: 1.829370, Train accuracy: 0.466667, val accuracy: 0.000000\n",
      "Loss: 1.958315, Train accuracy: 0.266667, val accuracy: 0.133333\n",
      "Loss: 2.619223, Train accuracy: 0.466667, val accuracy: 0.066667\n",
      "Loss: 1.536753, Train accuracy: 0.466667, val accuracy: 0.000000\n",
      "Loss: 1.708987, Train accuracy: 0.600000, val accuracy: 0.066667\n",
      "Loss: 0.695480, Train accuracy: 0.600000, val accuracy: 0.000000\n",
      "Loss: 1.936009, Train accuracy: 0.733333, val accuracy: 0.000000\n",
      "Loss: 1.327485, Train accuracy: 0.800000, val accuracy: 0.000000\n",
      "Loss: 0.478932, Train accuracy: 0.800000, val accuracy: 0.000000\n",
      "Loss: 0.483440, Train accuracy: 0.733333, val accuracy: 0.066667\n",
      "Loss: 0.677020, Train accuracy: 0.800000, val accuracy: 0.066667\n",
      "Loss: 0.768356, Train accuracy: 0.866667, val accuracy: 0.000000\n",
      "Loss: 0.080648, Train accuracy: 0.933333, val accuracy: 0.000000\n",
      "Loss: 0.333316, Train accuracy: 1.000000, val accuracy: 0.000000\n",
      "Loss: 0.103902, Train accuracy: 1.000000, val accuracy: 0.000000\n"
     ]
    }
   ],
   "source": [
    "# Now, tweak some hyper parameters and make it train to 1.0 accuracy in 20 epochs or less\n",
    "\n",
    "model = TwoLayerNet(n_input = train_X.shape[1], n_output = 10, hidden_layer_size = 100, reg = 1e-5)\n",
    "dataset = Dataset(train_X[:data_size], train_y[:data_size], val_X[:data_size], val_y[:data_size])\n",
    "# TODO: Change any hyperparamers or optimizators to reach training accuracy in 20 epochs\n",
    "trainer = Trainer(model, dataset, SGD(), learning_rate=3e-1, num_epochs=20, batch_size=5)\n",
    "\n",
    "loss_history, train_history, val_history = trainer.fit()"
   ]
  },
  {
   "cell_type": "markdown",
   "metadata": {},
   "source": [
    "# Итак, основное мероприятие!\n",
    "\n",
    "Натренируйте лучшую нейросеть! Можно добавлять и изменять параметры, менять количество нейронов в слоях сети и как угодно экспериментировать. \n",
    "\n",
    "Добейтесь точности лучше **40%** на validation set."
   ]
  },
  {
   "cell_type": "code",
   "execution_count": 21,
   "metadata": {
    "scrolled": true
   },
   "outputs": [
    {
     "name": "stdout",
     "output_type": "stream",
     "text": [
      "Loss: 2.021700, Train accuracy: 0.287778, val accuracy: 0.292000\n",
      "Loss: 1.478954, Train accuracy: 0.460889, val accuracy: 0.451000\n",
      "Loss: 1.800945, Train accuracy: 0.531444, val accuracy: 0.501000\n",
      "Loss: 1.566881, Train accuracy: 0.551889, val accuracy: 0.525000\n",
      "Loss: 1.295172, Train accuracy: 0.648333, val accuracy: 0.644000\n",
      "Loss: 1.169863, Train accuracy: 0.601000, val accuracy: 0.581000\n",
      "Loss: 1.409411, Train accuracy: 0.509778, val accuracy: 0.511000\n",
      "Loss: 1.478483, Train accuracy: 0.657222, val accuracy: 0.637000\n",
      "Loss: 1.412554, Train accuracy: 0.591333, val accuracy: 0.563000\n",
      "Loss: 3.141732, Train accuracy: 0.490222, val accuracy: 0.462000\n",
      "Loss: 1.343070, Train accuracy: 0.704111, val accuracy: 0.654000\n",
      "Loss: 2.460622, Train accuracy: 0.407667, val accuracy: 0.408000\n",
      "Loss: 1.173145, Train accuracy: 0.717222, val accuracy: 0.652000\n",
      "Loss: 1.291142, Train accuracy: 0.724222, val accuracy: 0.667000\n",
      "Loss: 1.868806, Train accuracy: 0.523000, val accuracy: 0.493000\n",
      "Loss: 2.002052, Train accuracy: 0.564222, val accuracy: 0.531000\n",
      "Loss: 1.349868, Train accuracy: 0.706778, val accuracy: 0.662000\n",
      "Loss: 1.548058, Train accuracy: 0.670889, val accuracy: 0.639000\n",
      "Loss: 1.719611, Train accuracy: 0.693222, val accuracy: 0.635000\n",
      "Loss: 1.388312, Train accuracy: 0.742000, val accuracy: 0.668000\n",
      "Loss: 1.436819, Train accuracy: 0.608222, val accuracy: 0.572000\n",
      "Loss: 2.980865, Train accuracy: 0.520889, val accuracy: 0.525000\n",
      "Loss: 2.239389, Train accuracy: 0.575889, val accuracy: 0.549000\n",
      "Loss: 1.232460, Train accuracy: 0.736111, val accuracy: 0.681000\n",
      "Loss: 2.184166, Train accuracy: 0.655111, val accuracy: 0.598000\n",
      "Loss: 1.282682, Train accuracy: 0.711778, val accuracy: 0.667000\n",
      "Loss: 1.295697, Train accuracy: 0.694889, val accuracy: 0.645000\n",
      "Loss: 1.484175, Train accuracy: 0.636000, val accuracy: 0.603000\n",
      "Loss: 1.220649, Train accuracy: 0.779889, val accuracy: 0.689000\n",
      "Loss: 0.799908, Train accuracy: 0.809889, val accuracy: 0.726000\n",
      "Loss: 1.078350, Train accuracy: 0.728556, val accuracy: 0.674000\n",
      "Loss: 1.246761, Train accuracy: 0.749667, val accuracy: 0.673000\n",
      "Loss: 0.879268, Train accuracy: 0.797333, val accuracy: 0.724000\n",
      "Loss: 3.291126, Train accuracy: 0.466444, val accuracy: 0.434000\n",
      "Loss: 1.026166, Train accuracy: 0.777667, val accuracy: 0.712000\n",
      "Loss: 2.765066, Train accuracy: 0.581222, val accuracy: 0.554000\n",
      "Loss: 1.156482, Train accuracy: 0.753000, val accuracy: 0.670000\n",
      "Loss: 1.472179, Train accuracy: 0.755111, val accuracy: 0.680000\n",
      "Loss: 1.135630, Train accuracy: 0.766889, val accuracy: 0.707000\n",
      "Loss: 1.013421, Train accuracy: 0.802222, val accuracy: 0.708000\n",
      "Loss: 1.073554, Train accuracy: 0.737222, val accuracy: 0.666000\n",
      "Loss: 1.184650, Train accuracy: 0.802222, val accuracy: 0.732000\n",
      "Loss: 0.997333, Train accuracy: 0.767667, val accuracy: 0.679000\n",
      "Loss: 0.980058, Train accuracy: 0.837444, val accuracy: 0.741000\n",
      "Loss: 1.004174, Train accuracy: 0.784778, val accuracy: 0.705000\n",
      "Loss: 1.371028, Train accuracy: 0.745222, val accuracy: 0.681000\n",
      "Loss: 0.836801, Train accuracy: 0.819889, val accuracy: 0.737000\n",
      "Loss: 1.248065, Train accuracy: 0.798000, val accuracy: 0.712000\n",
      "Loss: 1.104788, Train accuracy: 0.742667, val accuracy: 0.669000\n",
      "Loss: 0.828332, Train accuracy: 0.819889, val accuracy: 0.729000\n",
      "Loss: 0.997502, Train accuracy: 0.766222, val accuracy: 0.693000\n",
      "Loss: 1.011680, Train accuracy: 0.786222, val accuracy: 0.700000\n",
      "Loss: 1.557664, Train accuracy: 0.707111, val accuracy: 0.657000\n",
      "Loss: 0.630845, Train accuracy: 0.779444, val accuracy: 0.693000\n",
      "Loss: 1.259987, Train accuracy: 0.678444, val accuracy: 0.624000\n",
      "Loss: 1.356981, Train accuracy: 0.728222, val accuracy: 0.651000\n",
      "Loss: 1.064936, Train accuracy: 0.814333, val accuracy: 0.720000\n",
      "Loss: 1.055268, Train accuracy: 0.807111, val accuracy: 0.722000\n",
      "Loss: 0.919120, Train accuracy: 0.839222, val accuracy: 0.743000\n",
      "Loss: 1.324354, Train accuracy: 0.667222, val accuracy: 0.613000\n",
      "Loss: 1.115811, Train accuracy: 0.721333, val accuracy: 0.652000\n",
      "Loss: 2.137320, Train accuracy: 0.730778, val accuracy: 0.655000\n",
      "Loss: 1.214211, Train accuracy: 0.793444, val accuracy: 0.709000\n",
      "Loss: 1.102290, Train accuracy: 0.800778, val accuracy: 0.712000\n",
      "Loss: 1.241878, Train accuracy: 0.781889, val accuracy: 0.697000\n",
      "Loss: 0.948847, Train accuracy: 0.863556, val accuracy: 0.759000\n",
      "Loss: 1.079863, Train accuracy: 0.773000, val accuracy: 0.685000\n",
      "Loss: 1.022784, Train accuracy: 0.702889, val accuracy: 0.656000\n",
      "Loss: 0.980485, Train accuracy: 0.817222, val accuracy: 0.711000\n",
      "Loss: 0.867272, Train accuracy: 0.800000, val accuracy: 0.704000\n",
      "Loss: 0.611916, Train accuracy: 0.858333, val accuracy: 0.750000\n",
      "Loss: 1.650516, Train accuracy: 0.715111, val accuracy: 0.637000\n",
      "Loss: 0.966394, Train accuracy: 0.866111, val accuracy: 0.763000\n",
      "Loss: 0.784799, Train accuracy: 0.820667, val accuracy: 0.725000\n",
      "Loss: 1.534123, Train accuracy: 0.672556, val accuracy: 0.614000\n",
      "Loss: 0.945393, Train accuracy: 0.863111, val accuracy: 0.753000\n",
      "Loss: 0.982100, Train accuracy: 0.801889, val accuracy: 0.709000\n",
      "Loss: 1.172975, Train accuracy: 0.838333, val accuracy: 0.728000\n",
      "Loss: 0.959791, Train accuracy: 0.881667, val accuracy: 0.769000\n",
      "Loss: 1.938579, Train accuracy: 0.768000, val accuracy: 0.694000\n",
      "Loss: 0.894646, Train accuracy: 0.865444, val accuracy: 0.766000\n",
      "Loss: 0.910661, Train accuracy: 0.850222, val accuracy: 0.736000\n",
      "Loss: 0.889124, Train accuracy: 0.866000, val accuracy: 0.762000\n",
      "Loss: 0.830033, Train accuracy: 0.828111, val accuracy: 0.712000\n",
      "Loss: 0.868055, Train accuracy: 0.841778, val accuracy: 0.722000\n",
      "Loss: 0.864295, Train accuracy: 0.840222, val accuracy: 0.728000\n",
      "Loss: 0.903450, Train accuracy: 0.879111, val accuracy: 0.763000\n",
      "Loss: 0.852863, Train accuracy: 0.874556, val accuracy: 0.766000\n",
      "Loss: 0.721668, Train accuracy: 0.875000, val accuracy: 0.755000\n",
      "Loss: 0.631691, Train accuracy: 0.880778, val accuracy: 0.771000\n",
      "Loss: 1.804589, Train accuracy: 0.704667, val accuracy: 0.639000\n",
      "Loss: 1.171074, Train accuracy: 0.793222, val accuracy: 0.692000\n",
      "Loss: 1.129231, Train accuracy: 0.853444, val accuracy: 0.750000\n",
      "Loss: 1.128605, Train accuracy: 0.827778, val accuracy: 0.726000\n",
      "Loss: 0.887444, Train accuracy: 0.862667, val accuracy: 0.748000\n",
      "Loss: 0.967562, Train accuracy: 0.866333, val accuracy: 0.753000\n",
      "Loss: 1.026407, Train accuracy: 0.810000, val accuracy: 0.721000\n",
      "Loss: 0.852707, Train accuracy: 0.879889, val accuracy: 0.756000\n",
      "Loss: 0.772241, Train accuracy: 0.850667, val accuracy: 0.742000\n",
      "Loss: 0.883290, Train accuracy: 0.875333, val accuracy: 0.750000\n",
      "Loss: 0.935555, Train accuracy: 0.870667, val accuracy: 0.753000\n",
      "Loss: 2.370274, Train accuracy: 0.550556, val accuracy: 0.499000\n",
      "Loss: 0.750957, Train accuracy: 0.876556, val accuracy: 0.741000\n",
      "Loss: 0.953731, Train accuracy: 0.868667, val accuracy: 0.740000\n",
      "Loss: 1.068742, Train accuracy: 0.860333, val accuracy: 0.746000\n",
      "Loss: 0.844540, Train accuracy: 0.853222, val accuracy: 0.743000\n",
      "Loss: 1.080544, Train accuracy: 0.747222, val accuracy: 0.667000\n",
      "Loss: 0.853277, Train accuracy: 0.850444, val accuracy: 0.733000\n",
      "Loss: 1.282534, Train accuracy: 0.752778, val accuracy: 0.659000\n",
      "Loss: 1.029955, Train accuracy: 0.798889, val accuracy: 0.702000\n",
      "Loss: 0.664990, Train accuracy: 0.894889, val accuracy: 0.766000\n",
      "Loss: 0.930353, Train accuracy: 0.903444, val accuracy: 0.775000\n",
      "Loss: 0.588853, Train accuracy: 0.906556, val accuracy: 0.769000\n",
      "Loss: 0.843578, Train accuracy: 0.892778, val accuracy: 0.769000\n",
      "Loss: 0.984315, Train accuracy: 0.834000, val accuracy: 0.724000\n",
      "Loss: 0.767144, Train accuracy: 0.857111, val accuracy: 0.732000\n",
      "Loss: 1.007894, Train accuracy: 0.890000, val accuracy: 0.749000\n",
      "Loss: 0.748429, Train accuracy: 0.898333, val accuracy: 0.768000\n",
      "Loss: 0.704595, Train accuracy: 0.896556, val accuracy: 0.766000\n",
      "Loss: 0.956548, Train accuracy: 0.894778, val accuracy: 0.752000\n",
      "Loss: 1.092707, Train accuracy: 0.820222, val accuracy: 0.722000\n",
      "Loss: 0.905048, Train accuracy: 0.882111, val accuracy: 0.766000\n",
      "Loss: 0.813552, Train accuracy: 0.832667, val accuracy: 0.716000\n",
      "Loss: 1.014822, Train accuracy: 0.768889, val accuracy: 0.674000\n",
      "Loss: 0.713762, Train accuracy: 0.894556, val accuracy: 0.768000\n",
      "Loss: 0.636409, Train accuracy: 0.909778, val accuracy: 0.776000\n",
      "Loss: 0.739723, Train accuracy: 0.907778, val accuracy: 0.767000\n"
     ]
    },
    {
     "name": "stdout",
     "output_type": "stream",
     "text": [
      "Loss: 1.045145, Train accuracy: 0.729778, val accuracy: 0.641000\n",
      "Loss: 0.861445, Train accuracy: 0.888333, val accuracy: 0.753000\n",
      "Loss: 0.720663, Train accuracy: 0.884111, val accuracy: 0.749000\n",
      "Loss: 0.858815, Train accuracy: 0.905667, val accuracy: 0.766000\n",
      "Loss: 0.949365, Train accuracy: 0.854889, val accuracy: 0.728000\n",
      "Loss: 1.013948, Train accuracy: 0.910000, val accuracy: 0.765000\n",
      "Loss: 0.726394, Train accuracy: 0.878778, val accuracy: 0.744000\n",
      "Loss: 0.824586, Train accuracy: 0.866778, val accuracy: 0.742000\n",
      "Loss: 0.992408, Train accuracy: 0.861556, val accuracy: 0.727000\n",
      "Loss: 0.665165, Train accuracy: 0.918111, val accuracy: 0.780000\n",
      "Loss: 0.705856, Train accuracy: 0.915778, val accuracy: 0.776000\n",
      "Loss: 0.825402, Train accuracy: 0.908333, val accuracy: 0.762000\n",
      "Loss: 0.704087, Train accuracy: 0.914444, val accuracy: 0.775000\n",
      "Loss: 0.682349, Train accuracy: 0.920000, val accuracy: 0.769000\n",
      "Loss: 0.697035, Train accuracy: 0.911444, val accuracy: 0.781000\n",
      "Loss: 0.802646, Train accuracy: 0.891333, val accuracy: 0.753000\n",
      "Loss: 0.885395, Train accuracy: 0.838444, val accuracy: 0.723000\n",
      "Loss: 0.769349, Train accuracy: 0.928889, val accuracy: 0.772000\n",
      "Loss: 0.663064, Train accuracy: 0.920556, val accuracy: 0.765000\n",
      "Loss: 0.752460, Train accuracy: 0.906444, val accuracy: 0.763000\n",
      "Loss: 0.877304, Train accuracy: 0.888333, val accuracy: 0.744000\n",
      "Loss: 0.629761, Train accuracy: 0.922111, val accuracy: 0.775000\n",
      "Loss: 0.724806, Train accuracy: 0.917111, val accuracy: 0.767000\n",
      "Loss: 0.767987, Train accuracy: 0.900111, val accuracy: 0.752000\n",
      "Loss: 0.658817, Train accuracy: 0.915333, val accuracy: 0.775000\n",
      "Loss: 0.800796, Train accuracy: 0.907111, val accuracy: 0.757000\n",
      "Loss: 0.653193, Train accuracy: 0.936222, val accuracy: 0.790000\n",
      "Loss: 0.792553, Train accuracy: 0.918667, val accuracy: 0.784000\n",
      "Loss: 0.853143, Train accuracy: 0.905222, val accuracy: 0.763000\n",
      "Loss: 0.768738, Train accuracy: 0.882333, val accuracy: 0.760000\n",
      "Loss: 0.808735, Train accuracy: 0.844556, val accuracy: 0.719000\n",
      "Loss: 0.862732, Train accuracy: 0.929222, val accuracy: 0.780000\n",
      "Loss: 0.601134, Train accuracy: 0.921889, val accuracy: 0.783000\n",
      "Loss: 0.658191, Train accuracy: 0.918778, val accuracy: 0.777000\n",
      "Loss: 0.865985, Train accuracy: 0.909444, val accuracy: 0.760000\n",
      "Loss: 0.659003, Train accuracy: 0.913000, val accuracy: 0.774000\n",
      "Loss: 0.794521, Train accuracy: 0.924222, val accuracy: 0.775000\n",
      "Loss: 0.854444, Train accuracy: 0.930000, val accuracy: 0.787000\n",
      "Loss: 0.680867, Train accuracy: 0.921000, val accuracy: 0.771000\n",
      "Loss: 0.740263, Train accuracy: 0.912889, val accuracy: 0.775000\n",
      "Loss: 0.718446, Train accuracy: 0.927000, val accuracy: 0.783000\n",
      "Loss: 0.687668, Train accuracy: 0.923889, val accuracy: 0.783000\n",
      "Loss: 0.702064, Train accuracy: 0.896000, val accuracy: 0.753000\n",
      "Loss: 0.735545, Train accuracy: 0.875667, val accuracy: 0.744000\n",
      "Loss: 0.717432, Train accuracy: 0.921444, val accuracy: 0.773000\n",
      "Loss: 0.797457, Train accuracy: 0.934778, val accuracy: 0.785000\n",
      "Loss: 0.619975, Train accuracy: 0.943778, val accuracy: 0.786000\n",
      "Loss: 0.654462, Train accuracy: 0.930667, val accuracy: 0.777000\n",
      "Loss: 0.796022, Train accuracy: 0.929000, val accuracy: 0.782000\n",
      "Loss: 0.671945, Train accuracy: 0.903778, val accuracy: 0.760000\n",
      "Loss: 0.721430, Train accuracy: 0.940667, val accuracy: 0.790000\n",
      "Loss: 0.792109, Train accuracy: 0.935667, val accuracy: 0.786000\n",
      "Loss: 0.754383, Train accuracy: 0.921000, val accuracy: 0.776000\n",
      "Loss: 0.773107, Train accuracy: 0.902222, val accuracy: 0.764000\n",
      "Loss: 0.773107, Train accuracy: 0.925333, val accuracy: 0.782000\n",
      "Loss: 0.711454, Train accuracy: 0.928333, val accuracy: 0.780000\n",
      "Loss: 0.751538, Train accuracy: 0.940889, val accuracy: 0.779000\n",
      "Loss: 0.643626, Train accuracy: 0.944444, val accuracy: 0.787000\n",
      "Loss: 0.615627, Train accuracy: 0.915222, val accuracy: 0.762000\n",
      "Loss: 0.632077, Train accuracy: 0.933556, val accuracy: 0.787000\n",
      "Loss: 0.659340, Train accuracy: 0.938889, val accuracy: 0.788000\n",
      "Loss: 0.730995, Train accuracy: 0.878000, val accuracy: 0.741000\n",
      "Loss: 0.637106, Train accuracy: 0.947111, val accuracy: 0.792000\n",
      "Loss: 0.581968, Train accuracy: 0.951667, val accuracy: 0.795000\n",
      "Loss: 0.687705, Train accuracy: 0.936000, val accuracy: 0.784000\n",
      "Loss: 0.695940, Train accuracy: 0.948778, val accuracy: 0.795000\n",
      "Loss: 0.709989, Train accuracy: 0.936556, val accuracy: 0.780000\n",
      "Loss: 0.561567, Train accuracy: 0.937556, val accuracy: 0.778000\n",
      "Loss: 0.776531, Train accuracy: 0.936000, val accuracy: 0.783000\n",
      "Loss: 0.649818, Train accuracy: 0.946333, val accuracy: 0.788000\n",
      "Loss: 0.680019, Train accuracy: 0.945444, val accuracy: 0.783000\n",
      "Loss: 0.771225, Train accuracy: 0.942333, val accuracy: 0.787000\n",
      "Loss: 0.629921, Train accuracy: 0.943667, val accuracy: 0.788000\n",
      "Params: lr=0.5, rs=0.001, opt=<class 'optim.SGD'>\n",
      "Loss: 0.6824, Train accuracy: 0.9437, val accuracy: 0.7880\n",
      "\n"
     ]
    },
    {
     "name": "stderr",
     "output_type": "stream",
     "text": [
      "D:\\src\\DL\\assignments\\assignment2\\layers.py:62: RuntimeWarning: divide by zero encountered in log\n",
      "  return np.mean(-np.log(probs[np.arange(n_samples), target_index]))\n"
     ]
    },
    {
     "name": "stdout",
     "output_type": "stream",
     "text": [
      "Loss: inf, Train accuracy: 0.079000, val accuracy: 0.079000\n",
      "Loss: inf, Train accuracy: 0.109556, val accuracy: 0.101000\n",
      "Loss: inf, Train accuracy: 0.118111, val accuracy: 0.116000\n",
      "Loss: inf, Train accuracy: 0.098333, val accuracy: 0.092000\n",
      "Loss: inf, Train accuracy: 0.105667, val accuracy: 0.089000\n",
      "Loss: inf, Train accuracy: 0.106000, val accuracy: 0.101000\n",
      "Loss: inf, Train accuracy: 0.168778, val accuracy: 0.167000\n",
      "Loss: inf, Train accuracy: 0.132111, val accuracy: 0.129000\n",
      "Loss: inf, Train accuracy: 0.103000, val accuracy: 0.110000\n",
      "Loss: inf, Train accuracy: 0.114444, val accuracy: 0.136000\n",
      "Loss: inf, Train accuracy: 0.094222, val accuracy: 0.071000\n",
      "Loss: inf, Train accuracy: 0.079444, val accuracy: 0.078000\n"
     ]
    },
    {
     "name": "stderr",
     "output_type": "stream",
     "text": [
      "D:\\src\\DL\\assignments\\assignment2\\layers.py:42: RuntimeWarning: overflow encountered in subtract\n",
      "  x -= np.max(x, axis=1, keepdims=True)\n",
      "c:\\users\\zabra\\appdata\\local\\programs\\python\\python37\\lib\\site-packages\\numpy\\core\\fromnumeric.py:86: RuntimeWarning: overflow encountered in reduce\n",
      "  return ufunc.reduce(obj, axis, dtype, out, **passkwargs)\n",
      "D:\\src\\DL\\assignments\\assignment2\\layers.py:42: RuntimeWarning: invalid value encountered in subtract\n",
      "  x -= np.max(x, axis=1, keepdims=True)\n",
      "D:\\src\\DL\\assignments\\assignment2\\layers.py:129: RuntimeWarning: invalid value encountered in greater\n",
      "  relu_grad = self.x > 0\n"
     ]
    },
    {
     "name": "stdout",
     "output_type": "stream",
     "text": [
      "Loss: nan, Train accuracy: 0.066333, val accuracy: 0.049000\n",
      "Loss: nan, Train accuracy: 0.066333, val accuracy: 0.049000\n",
      "Loss: nan, Train accuracy: 0.066333, val accuracy: 0.049000\n",
      "Loss: nan, Train accuracy: 0.066333, val accuracy: 0.049000\n",
      "Loss: nan, Train accuracy: 0.066333, val accuracy: 0.049000\n",
      "Loss: nan, Train accuracy: 0.066333, val accuracy: 0.049000\n",
      "Loss: nan, Train accuracy: 0.066333, val accuracy: 0.049000\n",
      "Loss: nan, Train accuracy: 0.066333, val accuracy: 0.049000\n",
      "Loss: nan, Train accuracy: 0.066333, val accuracy: 0.049000\n",
      "Loss: nan, Train accuracy: 0.066333, val accuracy: 0.049000\n",
      "Loss: nan, Train accuracy: 0.066333, val accuracy: 0.049000\n",
      "Loss: nan, Train accuracy: 0.066333, val accuracy: 0.049000\n",
      "Loss: nan, Train accuracy: 0.066333, val accuracy: 0.049000\n",
      "Loss: nan, Train accuracy: 0.066333, val accuracy: 0.049000\n",
      "Loss: nan, Train accuracy: 0.066333, val accuracy: 0.049000\n",
      "Loss: nan, Train accuracy: 0.066333, val accuracy: 0.049000\n",
      "Loss: nan, Train accuracy: 0.066333, val accuracy: 0.049000\n",
      "Loss: nan, Train accuracy: 0.066333, val accuracy: 0.049000\n",
      "Loss: nan, Train accuracy: 0.066333, val accuracy: 0.049000\n",
      "Loss: nan, Train accuracy: 0.066333, val accuracy: 0.049000\n",
      "Loss: nan, Train accuracy: 0.066333, val accuracy: 0.049000\n",
      "Loss: nan, Train accuracy: 0.066333, val accuracy: 0.049000\n",
      "Loss: nan, Train accuracy: 0.066333, val accuracy: 0.049000\n",
      "Loss: nan, Train accuracy: 0.066333, val accuracy: 0.049000\n",
      "Loss: nan, Train accuracy: 0.066333, val accuracy: 0.049000\n",
      "Loss: nan, Train accuracy: 0.066333, val accuracy: 0.049000\n",
      "Loss: nan, Train accuracy: 0.066333, val accuracy: 0.049000\n",
      "Loss: nan, Train accuracy: 0.066333, val accuracy: 0.049000\n",
      "Loss: nan, Train accuracy: 0.066333, val accuracy: 0.049000\n",
      "Loss: nan, Train accuracy: 0.066333, val accuracy: 0.049000\n",
      "Loss: nan, Train accuracy: 0.066333, val accuracy: 0.049000\n",
      "Loss: nan, Train accuracy: 0.066333, val accuracy: 0.049000\n",
      "Loss: nan, Train accuracy: 0.066333, val accuracy: 0.049000\n",
      "Loss: nan, Train accuracy: 0.066333, val accuracy: 0.049000\n",
      "Loss: nan, Train accuracy: 0.066333, val accuracy: 0.049000\n",
      "Loss: nan, Train accuracy: 0.066333, val accuracy: 0.049000\n",
      "Loss: nan, Train accuracy: 0.066333, val accuracy: 0.049000\n",
      "Loss: nan, Train accuracy: 0.066333, val accuracy: 0.049000\n",
      "Loss: nan, Train accuracy: 0.066333, val accuracy: 0.049000\n",
      "Loss: nan, Train accuracy: 0.066333, val accuracy: 0.049000\n",
      "Loss: nan, Train accuracy: 0.066333, val accuracy: 0.049000\n",
      "Loss: nan, Train accuracy: 0.066333, val accuracy: 0.049000\n",
      "Loss: nan, Train accuracy: 0.066333, val accuracy: 0.049000\n",
      "Loss: nan, Train accuracy: 0.066333, val accuracy: 0.049000\n",
      "Loss: nan, Train accuracy: 0.066333, val accuracy: 0.049000\n",
      "Loss: nan, Train accuracy: 0.066333, val accuracy: 0.049000\n",
      "Loss: nan, Train accuracy: 0.066333, val accuracy: 0.049000\n",
      "Loss: nan, Train accuracy: 0.066333, val accuracy: 0.049000\n",
      "Loss: nan, Train accuracy: 0.066333, val accuracy: 0.049000\n",
      "Loss: nan, Train accuracy: 0.066333, val accuracy: 0.049000\n",
      "Loss: nan, Train accuracy: 0.066333, val accuracy: 0.049000\n",
      "Loss: nan, Train accuracy: 0.066333, val accuracy: 0.049000\n",
      "Loss: nan, Train accuracy: 0.066333, val accuracy: 0.049000\n",
      "Loss: nan, Train accuracy: 0.066333, val accuracy: 0.049000\n",
      "Loss: nan, Train accuracy: 0.066333, val accuracy: 0.049000\n",
      "Loss: nan, Train accuracy: 0.066333, val accuracy: 0.049000\n",
      "Loss: nan, Train accuracy: 0.066333, val accuracy: 0.049000\n",
      "Loss: nan, Train accuracy: 0.066333, val accuracy: 0.049000\n",
      "Loss: nan, Train accuracy: 0.066333, val accuracy: 0.049000\n",
      "Loss: nan, Train accuracy: 0.066333, val accuracy: 0.049000\n",
      "Loss: nan, Train accuracy: 0.066333, val accuracy: 0.049000\n",
      "Loss: nan, Train accuracy: 0.066333, val accuracy: 0.049000\n",
      "Loss: nan, Train accuracy: 0.066333, val accuracy: 0.049000\n",
      "Loss: nan, Train accuracy: 0.066333, val accuracy: 0.049000\n",
      "Loss: nan, Train accuracy: 0.066333, val accuracy: 0.049000\n",
      "Loss: nan, Train accuracy: 0.066333, val accuracy: 0.049000\n",
      "Loss: nan, Train accuracy: 0.066333, val accuracy: 0.049000\n",
      "Loss: nan, Train accuracy: 0.066333, val accuracy: 0.049000\n",
      "Loss: nan, Train accuracy: 0.066333, val accuracy: 0.049000\n",
      "Loss: nan, Train accuracy: 0.066333, val accuracy: 0.049000\n",
      "Loss: nan, Train accuracy: 0.066333, val accuracy: 0.049000\n",
      "Loss: nan, Train accuracy: 0.066333, val accuracy: 0.049000\n",
      "Loss: nan, Train accuracy: 0.066333, val accuracy: 0.049000\n",
      "Loss: nan, Train accuracy: 0.066333, val accuracy: 0.049000\n",
      "Loss: nan, Train accuracy: 0.066333, val accuracy: 0.049000\n",
      "Loss: nan, Train accuracy: 0.066333, val accuracy: 0.049000\n",
      "Loss: nan, Train accuracy: 0.066333, val accuracy: 0.049000\n",
      "Loss: nan, Train accuracy: 0.066333, val accuracy: 0.049000\n",
      "Loss: nan, Train accuracy: 0.066333, val accuracy: 0.049000\n",
      "Loss: nan, Train accuracy: 0.066333, val accuracy: 0.049000\n",
      "Loss: nan, Train accuracy: 0.066333, val accuracy: 0.049000\n",
      "Loss: nan, Train accuracy: 0.066333, val accuracy: 0.049000\n",
      "Loss: nan, Train accuracy: 0.066333, val accuracy: 0.049000\n",
      "Loss: nan, Train accuracy: 0.066333, val accuracy: 0.049000\n",
      "Loss: nan, Train accuracy: 0.066333, val accuracy: 0.049000\n",
      "Loss: nan, Train accuracy: 0.066333, val accuracy: 0.049000\n",
      "Loss: nan, Train accuracy: 0.066333, val accuracy: 0.049000\n",
      "Loss: nan, Train accuracy: 0.066333, val accuracy: 0.049000\n",
      "Loss: nan, Train accuracy: 0.066333, val accuracy: 0.049000\n",
      "Loss: nan, Train accuracy: 0.066333, val accuracy: 0.049000\n",
      "Loss: nan, Train accuracy: 0.066333, val accuracy: 0.049000\n",
      "Loss: nan, Train accuracy: 0.066333, val accuracy: 0.049000\n",
      "Loss: nan, Train accuracy: 0.066333, val accuracy: 0.049000\n",
      "Loss: nan, Train accuracy: 0.066333, val accuracy: 0.049000\n",
      "Loss: nan, Train accuracy: 0.066333, val accuracy: 0.049000\n",
      "Loss: nan, Train accuracy: 0.066333, val accuracy: 0.049000\n",
      "Loss: nan, Train accuracy: 0.066333, val accuracy: 0.049000\n",
      "Loss: nan, Train accuracy: 0.066333, val accuracy: 0.049000\n",
      "Loss: nan, Train accuracy: 0.066333, val accuracy: 0.049000\n",
      "Loss: nan, Train accuracy: 0.066333, val accuracy: 0.049000\n",
      "Loss: nan, Train accuracy: 0.066333, val accuracy: 0.049000\n",
      "Loss: nan, Train accuracy: 0.066333, val accuracy: 0.049000\n",
      "Loss: nan, Train accuracy: 0.066333, val accuracy: 0.049000\n",
      "Loss: nan, Train accuracy: 0.066333, val accuracy: 0.049000\n",
      "Loss: nan, Train accuracy: 0.066333, val accuracy: 0.049000\n",
      "Loss: nan, Train accuracy: 0.066333, val accuracy: 0.049000\n",
      "Loss: nan, Train accuracy: 0.066333, val accuracy: 0.049000\n",
      "Loss: nan, Train accuracy: 0.066333, val accuracy: 0.049000\n",
      "Loss: nan, Train accuracy: 0.066333, val accuracy: 0.049000\n",
      "Loss: nan, Train accuracy: 0.066333, val accuracy: 0.049000\n",
      "Loss: nan, Train accuracy: 0.066333, val accuracy: 0.049000\n",
      "Loss: nan, Train accuracy: 0.066333, val accuracy: 0.049000\n",
      "Loss: nan, Train accuracy: 0.066333, val accuracy: 0.049000\n",
      "Loss: nan, Train accuracy: 0.066333, val accuracy: 0.049000\n",
      "Loss: nan, Train accuracy: 0.066333, val accuracy: 0.049000\n",
      "Loss: nan, Train accuracy: 0.066333, val accuracy: 0.049000\n",
      "Loss: nan, Train accuracy: 0.066333, val accuracy: 0.049000\n"
     ]
    },
    {
     "ename": "KeyboardInterrupt",
     "evalue": "",
     "output_type": "error",
     "traceback": [
      "\u001b[1;31m-------------------------------------------------------------------\u001b[0m",
      "\u001b[1;31mKeyboardInterrupt\u001b[0m                 Traceback (most recent call last)",
      "\u001b[1;32m<ipython-input-21-54a84f10cb84>\u001b[0m in \u001b[0;36m<module>\u001b[1;34m\u001b[0m\n\u001b[0;32m     34\u001b[0m                       learning_rate_decay=learning_rate_decay)\n\u001b[0;32m     35\u001b[0m \u001b[1;33m\u001b[0m\u001b[0m\n\u001b[1;32m---> 36\u001b[1;33m     \u001b[0mloss\u001b[0m\u001b[1;33m,\u001b[0m \u001b[0mtrain_acc\u001b[0m\u001b[1;33m,\u001b[0m \u001b[0mval_acc\u001b[0m \u001b[1;33m=\u001b[0m \u001b[0mtrainer\u001b[0m\u001b[1;33m.\u001b[0m\u001b[0mfit\u001b[0m\u001b[1;33m(\u001b[0m\u001b[1;33m)\u001b[0m\u001b[1;33m\u001b[0m\u001b[0m\n\u001b[0m\u001b[0;32m     37\u001b[0m \u001b[1;33m\u001b[0m\u001b[0m\n\u001b[0;32m     38\u001b[0m     \u001b[0mprint\u001b[0m\u001b[1;33m(\u001b[0m\u001b[1;34mf'Params: lr={lr}, rs={rs}, opt={opt.__class__}'\u001b[0m\u001b[1;33m)\u001b[0m\u001b[1;33m\u001b[0m\u001b[0m\n",
      "\u001b[1;32mD:\\src\\DL\\assignments\\assignment2\\trainer.py\u001b[0m in \u001b[0;36mfit\u001b[1;34m(self)\u001b[0m\n\u001b[0;32m    100\u001b[0m                 \u001b[1;31m# the params\u001b[0m\u001b[1;33m\u001b[0m\u001b[1;33m\u001b[0m\u001b[0m\n\u001b[0;32m    101\u001b[0m                 \u001b[1;31m# display(self.dataset.train_X[batch_indices])\u001b[0m\u001b[1;33m\u001b[0m\u001b[1;33m\u001b[0m\u001b[0m\n\u001b[1;32m--> 102\u001b[1;33m                 \u001b[0mloss\u001b[0m \u001b[1;33m=\u001b[0m \u001b[0mself\u001b[0m\u001b[1;33m.\u001b[0m\u001b[0mmodel\u001b[0m\u001b[1;33m.\u001b[0m\u001b[0mcompute_loss_and_gradients\u001b[0m\u001b[1;33m(\u001b[0m\u001b[0mself\u001b[0m\u001b[1;33m.\u001b[0m\u001b[0mdataset\u001b[0m\u001b[1;33m.\u001b[0m\u001b[0mtrain_X\u001b[0m\u001b[1;33m[\u001b[0m\u001b[0mbatch_indices\u001b[0m\u001b[1;33m]\u001b[0m\u001b[1;33m,\u001b[0m \u001b[0mself\u001b[0m\u001b[1;33m.\u001b[0m\u001b[0mdataset\u001b[0m\u001b[1;33m.\u001b[0m\u001b[0mtrain_y\u001b[0m\u001b[1;33m[\u001b[0m\u001b[0mbatch_indices\u001b[0m\u001b[1;33m]\u001b[0m\u001b[1;33m)\u001b[0m\u001b[1;33m\u001b[0m\u001b[0m\n\u001b[0m\u001b[0;32m    103\u001b[0m                 \u001b[1;31m# raise Exception(\"Not implemented!\")\u001b[0m\u001b[1;33m\u001b[0m\u001b[1;33m\u001b[0m\u001b[0m\n\u001b[0;32m    104\u001b[0m \u001b[1;33m\u001b[0m\u001b[0m\n",
      "\u001b[1;32mD:\\src\\DL\\assignments\\assignment2\\model.py\u001b[0m in \u001b[0;36mcompute_loss_and_gradients\u001b[1;34m(self, X, y)\u001b[0m\n\u001b[0;32m     57\u001b[0m         \u001b[1;31m# Hint: self.params() is useful again!\u001b[0m\u001b[1;33m\u001b[0m\u001b[1;33m\u001b[0m\u001b[0m\n\u001b[0;32m     58\u001b[0m         \u001b[1;32mfor\u001b[0m \u001b[0mparam\u001b[0m \u001b[1;32min\u001b[0m \u001b[0mself\u001b[0m\u001b[1;33m.\u001b[0m\u001b[0mparams\u001b[0m\u001b[1;33m(\u001b[0m\u001b[1;33m)\u001b[0m\u001b[1;33m.\u001b[0m\u001b[0mvalues\u001b[0m\u001b[1;33m(\u001b[0m\u001b[1;33m)\u001b[0m\u001b[1;33m:\u001b[0m\u001b[1;33m\u001b[0m\u001b[0m\n\u001b[1;32m---> 59\u001b[1;33m             \u001b[0mreg_loss\u001b[0m\u001b[1;33m,\u001b[0m \u001b[0mreg_grad\u001b[0m \u001b[1;33m=\u001b[0m \u001b[0ml2_regularization\u001b[0m\u001b[1;33m(\u001b[0m\u001b[0mparam\u001b[0m\u001b[1;33m.\u001b[0m\u001b[0mvalue\u001b[0m\u001b[1;33m,\u001b[0m \u001b[0mself\u001b[0m\u001b[1;33m.\u001b[0m\u001b[0mreg\u001b[0m\u001b[1;33m)\u001b[0m\u001b[1;33m\u001b[0m\u001b[0m\n\u001b[0m\u001b[0;32m     60\u001b[0m             \u001b[0mloss\u001b[0m \u001b[1;33m+=\u001b[0m \u001b[0mreg_loss\u001b[0m\u001b[1;33m\u001b[0m\u001b[0m\n\u001b[0;32m     61\u001b[0m             \u001b[0mparam\u001b[0m\u001b[1;33m.\u001b[0m\u001b[0mgrad\u001b[0m \u001b[1;33m+=\u001b[0m \u001b[0mreg_grad\u001b[0m   \u001b[1;31m# raise Exception(\"Not implemented!\")\u001b[0m\u001b[1;33m\u001b[0m\u001b[0m\n",
      "\u001b[1;32mD:\\src\\DL\\assignments\\assignment2\\layers.py\u001b[0m in \u001b[0;36ml2_regularization\u001b[1;34m(W, reg_strength)\u001b[0m\n\u001b[0;32m     19\u001b[0m     \u001b[1;31m# TODO: implement l2 regularization and gradient\u001b[0m\u001b[1;33m\u001b[0m\u001b[1;33m\u001b[0m\u001b[0m\n\u001b[0;32m     20\u001b[0m     \u001b[1;31m# Your final implementation shouldn't have any loops\u001b[0m\u001b[1;33m\u001b[0m\u001b[1;33m\u001b[0m\u001b[0m\n\u001b[1;32m---> 21\u001b[1;33m     \u001b[0mloss\u001b[0m \u001b[1;33m=\u001b[0m \u001b[0mreg_strength\u001b[0m \u001b[1;33m*\u001b[0m \u001b[0mnp\u001b[0m\u001b[1;33m.\u001b[0m\u001b[0msum\u001b[0m\u001b[1;33m(\u001b[0m\u001b[0mW\u001b[0m \u001b[1;33m**\u001b[0m \u001b[1;36m2\u001b[0m\u001b[1;33m)\u001b[0m\u001b[1;33m\u001b[0m\u001b[0m\n\u001b[0m\u001b[0;32m     22\u001b[0m     \u001b[0mgrad\u001b[0m \u001b[1;33m=\u001b[0m \u001b[1;36m2\u001b[0m \u001b[1;33m*\u001b[0m \u001b[0mW\u001b[0m \u001b[1;33m*\u001b[0m \u001b[0mreg_strength\u001b[0m\u001b[1;33m\u001b[0m\u001b[0m\n\u001b[0;32m     23\u001b[0m     \u001b[1;32mreturn\u001b[0m \u001b[0mloss\u001b[0m\u001b[1;33m,\u001b[0m \u001b[0mgrad\u001b[0m\u001b[1;33m\u001b[0m\u001b[0m\n",
      "\u001b[1;32mc:\\users\\zabra\\appdata\\local\\programs\\python\\python37\\lib\\site-packages\\numpy\\core\\fromnumeric.py\u001b[0m in \u001b[0;36msum\u001b[1;34m(a, axis, dtype, out, keepdims, initial)\u001b[0m\n\u001b[0;32m   2074\u001b[0m \u001b[1;33m\u001b[0m\u001b[0m\n\u001b[0;32m   2075\u001b[0m     return _wrapreduction(a, np.add, 'sum', axis, dtype, out, keepdims=keepdims,\n\u001b[1;32m-> 2076\u001b[1;33m                           initial=initial)\n\u001b[0m\u001b[0;32m   2077\u001b[0m \u001b[1;33m\u001b[0m\u001b[0m\n\u001b[0;32m   2078\u001b[0m \u001b[1;33m\u001b[0m\u001b[0m\n",
      "\u001b[1;32mc:\\users\\zabra\\appdata\\local\\programs\\python\\python37\\lib\\site-packages\\numpy\\core\\fromnumeric.py\u001b[0m in \u001b[0;36m_wrapreduction\u001b[1;34m(obj, ufunc, method, axis, dtype, out, **kwargs)\u001b[0m\n\u001b[0;32m     84\u001b[0m                 \u001b[1;32mreturn\u001b[0m \u001b[0mreduction\u001b[0m\u001b[1;33m(\u001b[0m\u001b[0maxis\u001b[0m\u001b[1;33m=\u001b[0m\u001b[0maxis\u001b[0m\u001b[1;33m,\u001b[0m \u001b[0mout\u001b[0m\u001b[1;33m=\u001b[0m\u001b[0mout\u001b[0m\u001b[1;33m,\u001b[0m \u001b[1;33m**\u001b[0m\u001b[0mpasskwargs\u001b[0m\u001b[1;33m)\u001b[0m\u001b[1;33m\u001b[0m\u001b[0m\n\u001b[0;32m     85\u001b[0m \u001b[1;33m\u001b[0m\u001b[0m\n\u001b[1;32m---> 86\u001b[1;33m     \u001b[1;32mreturn\u001b[0m \u001b[0mufunc\u001b[0m\u001b[1;33m.\u001b[0m\u001b[0mreduce\u001b[0m\u001b[1;33m(\u001b[0m\u001b[0mobj\u001b[0m\u001b[1;33m,\u001b[0m \u001b[0maxis\u001b[0m\u001b[1;33m,\u001b[0m \u001b[0mdtype\u001b[0m\u001b[1;33m,\u001b[0m \u001b[0mout\u001b[0m\u001b[1;33m,\u001b[0m \u001b[1;33m**\u001b[0m\u001b[0mpasskwargs\u001b[0m\u001b[1;33m)\u001b[0m\u001b[1;33m\u001b[0m\u001b[0m\n\u001b[0m\u001b[0;32m     87\u001b[0m \u001b[1;33m\u001b[0m\u001b[0m\n\u001b[0;32m     88\u001b[0m \u001b[1;33m\u001b[0m\u001b[0m\n",
      "\u001b[1;31mKeyboardInterrupt\u001b[0m: "
     ]
    }
   ],
   "source": [
    "# Let's train the best one-hidden-layer network we can\n",
    "import itertools\n",
    "\n",
    "learning_rates = [5e-1, 1e-1, 5e-2, 1e-2]\n",
    "reg_strength = [1e-3, 1e-4, 1e-5]\n",
    "optimizers = [SGD(), MomentumSGD()]\n",
    "learning_rate_decay = 0.99\n",
    "hidden_layer_size = 128\n",
    "num_epochs = 200\n",
    "batch_size = 64\n",
    "\n",
    "best_classifier = None\n",
    "best_val_accuracy = 0\n",
    "\n",
    "loss_history = []\n",
    "train_history = []\n",
    "val_history = []\n",
    "\n",
    "for lr, rs, opt in itertools.product(learning_rates,\n",
    "                                     reg_strength,\n",
    "                                     optimizers):\n",
    "    model = TwoLayerNet(n_input=train_X.shape[1],\n",
    "                        n_output=10,\n",
    "                        hidden_layer_size=hidden_layer_size,\n",
    "                        reg=rs)\n",
    "    dataset = Dataset(train_X, train_y,\n",
    "                      val_X, val_y)\n",
    "    trainer = Trainer(model=model,\n",
    "                      dataset=dataset,\n",
    "                      optim=opt,\n",
    "                      num_epochs=num_epochs,\n",
    "                      batch_size=batch_size,\n",
    "                      learning_rate=lr,\n",
    "                      learning_rate_decay=learning_rate_decay)\n",
    "    \n",
    "    loss, train_acc, val_acc = trainer.fit()\n",
    "    \n",
    "    print(f'Params: lr={lr}, rs={rs}, opt={opt.__class__}')\n",
    "    print(f\"Loss: {loss[-1]:.4f}, \"\n",
    "          f\"Train accuracy: {train_acc[-1]:.4f}, \"\n",
    "          f\"val accuracy: {val_acc[-1]:.4f}\")\n",
    "    print()\n",
    "    \n",
    "    loss_history.append(loss[-1])\n",
    "    train_history.append(train_acc[-1])\n",
    "    val_history.append(val_acc[-1])\n",
    "    \n",
    "    if val_acc[-1] > best_val_accuracy:\n",
    "        best_val_accuracy = val_acc[-1]\n",
    "        best_classifier = model\n",
    "\n",
    "# TODO find the best hyperparameters to train the network\n",
    "# Don't hesitate to add new values to the arrays above, perform experiments, use any tricks you want\n",
    "# You should expect to get to at least 40% of valudation accuracy\n",
    "# Save loss/train/history of the best classifier to the variables above\n",
    "\n",
    "print('best validation accuracy achieved: %f' % best_val_accuracy)"
   ]
  },
  {
   "cell_type": "code",
   "execution_count": 22,
   "metadata": {},
   "outputs": [
    {
     "data": {
      "text/plain": [
       "[<matplotlib.lines.Line2D at 0x1aa039cc2b0>]"
      ]
     },
     "execution_count": 22,
     "metadata": {},
     "output_type": "execute_result"
    },
    {
     "data": {
      "image/png": "[encoded data removed]",
      "text/plain": [
       "<Figure size 1080x504 with 2 Axes>"
      ]
     },
     "metadata": {
      "needs_background": "light"
     },
     "output_type": "display_data"
    }
   ],
   "source": [
    "plt.figure(figsize=(15, 7))\n",
    "plt.subplot(211)\n",
    "plt.title(\"Loss\")\n",
    "plt.plot(loss_history)\n",
    "plt.subplot(212)\n",
    "plt.title(\"Train/validation accuracy\")\n",
    "plt.plot(train_history)\n",
    "plt.plot(val_history)"
   ]
  },
  {
   "cell_type": "markdown",
   "metadata": {},
   "source": [
    "# Как обычно, посмотрим, как наша лучшая модель работает на тестовых данных"
   ]
  },
  {
   "cell_type": "code",
   "execution_count": 23,
   "metadata": {},
   "outputs": [
    {
     "name": "stdout",
     "output_type": "stream",
     "text": [
      "Neural net test set accuracy: 0.765000\n"
     ]
    }
   ],
   "source": [
    "test_pred = best_classifier.predict(test_X)\n",
    "test_accuracy = multiclass_accuracy(test_pred, test_y)\n",
    "print('Neural net test set accuracy: %f' % (test_accuracy, ))"
   ]
  },
  {
   "cell_type": "code",
   "execution_count": null,
   "metadata": {},
   "outputs": [],
   "source": []
  }
 ],
 "metadata": {
  "kernelspec": {
   "display_name": "Python 3",
   "language": "python",
   "name": "python3"
  },
  "language_info": {
   "codemirror_mode": {
    "name": "ipython",
    "version": 3
   },
   "file_extension": ".py",
   "mimetype": "text/x-python",
   "name": "python",
   "nbconvert_exporter": "python",
   "pygments_lexer": "ipython3",
   "version": "3.7.0"
  }
 },
 "nbformat": 4,
 "nbformat_minor": 2
}
